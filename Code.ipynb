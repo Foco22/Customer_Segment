{
  "nbformat": 4,
  "nbformat_minor": 0,
  "metadata": {
    "colab": {
      "name": "Te damos la bienvenida a Colaboratory",
      "provenance": [],
      "collapsed_sections": [],
      "toc_visible": true,
      "include_colab_link": true
    },
    "kernelspec": {
      "display_name": "Python 3",
      "name": "python3"
    }
  },
  "cells": [
    {
      "cell_type": "markdown",
      "metadata": {
        "id": "view-in-github",
        "colab_type": "text"
      },
      "source": [
        "<a href=\"https://colab.research.google.com/github/Foco22/Customer_Segment/blob/master/Code.ipynb\" target=\"_parent\"><img src=\"https://colab.research.google.com/assets/colab-badge.svg\" alt=\"Open In Colab\"/></a>"
      ]
    },
    {
      "cell_type": "code",
      "metadata": {
        "id": "NmhCU6TUVZg1",
        "colab_type": "code",
        "colab": {}
      },
      "source": [
        "import pandas as pd\n",
        "import numpy as np\n",
        "\n",
        "# visualization\n",
        "import matplotlib.pyplot as plt\n",
        "import plotly.express as px\n",
        "import plotly.graph_objects as go\n",
        "from plotly.subplots import make_subplots\n",
        "\n",
        "# for data preprocessing and clustering\n",
        "from sklearn.cluster import KMeans"
      ],
      "execution_count": 3,
      "outputs": []
    },
    {
      "cell_type": "code",
      "metadata": {
        "id": "s8bkFgv7V_Dp",
        "colab_type": "code",
        "colab": {
          "base_uri": "https://localhost:8080/",
          "height": 34
        },
        "outputId": "920b1356-de81-445a-f990-162fea04f998"
      },
      "source": [
        "url = 'https://raw.githubusercontent.com/cereniyim/Customer-Segmentation-Unsupervised-ML-Model/0418ed702b0b8f87b472d68971c84a4913fa956e/Orders%20-%20Analysis%20Task.csv'\n",
        "df = pd.read_csv(url)\n",
        "\n",
        "df.head()\n",
        "df.shape"
      ],
      "execution_count": 16,
      "outputs": [
        {
          "output_type": "execute_result",
          "data": {
            "text/plain": [
              "(70052, 17)"
            ]
          },
          "metadata": {
            "tags": []
          },
          "execution_count": 16
        }
      ]
    },
    {
      "cell_type": "code",
      "metadata": {
        "id": "9mUObRP2WNYd",
        "colab_type": "code",
        "colab": {
          "base_uri": "https://localhost:8080/",
          "height": 323
        },
        "outputId": "6828e702-3531-4914-db91-cd0e9be63250"
      },
      "source": [
        "df.isnull().sum()"
      ],
      "execution_count": 6,
      "outputs": [
        {
          "output_type": "execute_result",
          "data": {
            "text/plain": [
              "product_title             0\n",
              "product_type              0\n",
              "variant_title             0\n",
              "variant_sku               0\n",
              "variant_id                0\n",
              "customer_id               0\n",
              "order_id                  0\n",
              "day                       0\n",
              "net_quantity              0\n",
              "gross_sales               0\n",
              "discounts                 0\n",
              "returns                   0\n",
              "net_sales                 0\n",
              "taxes                     0\n",
              "total_sales               0\n",
              "returned_item_quantity    0\n",
              "ordered_item_quantity     0\n",
              "dtype: int64"
            ]
          },
          "metadata": {
            "tags": []
          },
          "execution_count": 6
        }
      ]
    },
    {
      "cell_type": "code",
      "metadata": {
        "id": "-VbdAXyRWRMJ",
        "colab_type": "code",
        "colab": {
          "base_uri": "https://localhost:8080/",
          "height": 317
        },
        "outputId": "d8bdd570-a933-4819-bf6c-287911faca05"
      },
      "source": [
        "df.describe()"
      ],
      "execution_count": 10,
      "outputs": [
        {
          "output_type": "execute_result",
          "data": {
            "text/html": [
              "<div>\n",
              "<style scoped>\n",
              "    .dataframe tbody tr th:only-of-type {\n",
              "        vertical-align: middle;\n",
              "    }\n",
              "\n",
              "    .dataframe tbody tr th {\n",
              "        vertical-align: top;\n",
              "    }\n",
              "\n",
              "    .dataframe thead th {\n",
              "        text-align: right;\n",
              "    }\n",
              "</style>\n",
              "<table border=\"1\" class=\"dataframe\">\n",
              "  <thead>\n",
              "    <tr style=\"text-align: right;\">\n",
              "      <th></th>\n",
              "      <th>variant_id</th>\n",
              "      <th>customer_id</th>\n",
              "      <th>order_id</th>\n",
              "      <th>net_quantity</th>\n",
              "      <th>gross_sales</th>\n",
              "      <th>discounts</th>\n",
              "      <th>returns</th>\n",
              "      <th>net_sales</th>\n",
              "      <th>taxes</th>\n",
              "      <th>total_sales</th>\n",
              "      <th>returned_item_quantity</th>\n",
              "      <th>ordered_item_quantity</th>\n",
              "    </tr>\n",
              "  </thead>\n",
              "  <tbody>\n",
              "    <tr>\n",
              "      <th>count</th>\n",
              "      <td>7.005200e+04</td>\n",
              "      <td>7.005200e+04</td>\n",
              "      <td>7.005200e+04</td>\n",
              "      <td>70052.000000</td>\n",
              "      <td>70052.000000</td>\n",
              "      <td>70052.000000</td>\n",
              "      <td>70052.000000</td>\n",
              "      <td>70052.000000</td>\n",
              "      <td>70052.000000</td>\n",
              "      <td>70052.000000</td>\n",
              "      <td>70052.000000</td>\n",
              "      <td>70052.000000</td>\n",
              "    </tr>\n",
              "    <tr>\n",
              "      <th>mean</th>\n",
              "      <td>2.442320e+11</td>\n",
              "      <td>6.013091e+11</td>\n",
              "      <td>5.506075e+13</td>\n",
              "      <td>0.701179</td>\n",
              "      <td>61.776302</td>\n",
              "      <td>-4.949904</td>\n",
              "      <td>-10.246051</td>\n",
              "      <td>46.580348</td>\n",
              "      <td>9.123636</td>\n",
              "      <td>55.703982</td>\n",
              "      <td>-0.156098</td>\n",
              "      <td>0.857277</td>\n",
              "    </tr>\n",
              "    <tr>\n",
              "      <th>std</th>\n",
              "      <td>4.255079e+12</td>\n",
              "      <td>6.223201e+12</td>\n",
              "      <td>2.587640e+13</td>\n",
              "      <td>0.739497</td>\n",
              "      <td>31.800689</td>\n",
              "      <td>7.769972</td>\n",
              "      <td>25.154677</td>\n",
              "      <td>51.802690</td>\n",
              "      <td>10.305236</td>\n",
              "      <td>61.920557</td>\n",
              "      <td>0.369190</td>\n",
              "      <td>0.380820</td>\n",
              "    </tr>\n",
              "    <tr>\n",
              "      <th>min</th>\n",
              "      <td>1.001447e+07</td>\n",
              "      <td>1.000661e+06</td>\n",
              "      <td>1.000657e+13</td>\n",
              "      <td>-3.000000</td>\n",
              "      <td>0.000000</td>\n",
              "      <td>-200.000000</td>\n",
              "      <td>-237.500000</td>\n",
              "      <td>-237.500000</td>\n",
              "      <td>-47.500000</td>\n",
              "      <td>-285.000000</td>\n",
              "      <td>-3.000000</td>\n",
              "      <td>0.000000</td>\n",
              "    </tr>\n",
              "    <tr>\n",
              "      <th>25%</th>\n",
              "      <td>2.692223e+07</td>\n",
              "      <td>3.295695e+06</td>\n",
              "      <td>3.270317e+13</td>\n",
              "      <td>1.000000</td>\n",
              "      <td>51.670000</td>\n",
              "      <td>-8.340000</td>\n",
              "      <td>0.000000</td>\n",
              "      <td>47.080000</td>\n",
              "      <td>8.375000</td>\n",
              "      <td>56.227500</td>\n",
              "      <td>0.000000</td>\n",
              "      <td>1.000000</td>\n",
              "    </tr>\n",
              "    <tr>\n",
              "      <th>50%</th>\n",
              "      <td>4.494514e+07</td>\n",
              "      <td>5.566107e+06</td>\n",
              "      <td>5.522207e+13</td>\n",
              "      <td>1.000000</td>\n",
              "      <td>74.170000</td>\n",
              "      <td>0.000000</td>\n",
              "      <td>0.000000</td>\n",
              "      <td>63.330000</td>\n",
              "      <td>12.660000</td>\n",
              "      <td>76.000000</td>\n",
              "      <td>0.000000</td>\n",
              "      <td>1.000000</td>\n",
              "    </tr>\n",
              "    <tr>\n",
              "      <th>75%</th>\n",
              "      <td>7.743106e+07</td>\n",
              "      <td>7.815352e+06</td>\n",
              "      <td>7.736876e+13</td>\n",
              "      <td>1.000000</td>\n",
              "      <td>79.170000</td>\n",
              "      <td>0.000000</td>\n",
              "      <td>0.000000</td>\n",
              "      <td>74.170000</td>\n",
              "      <td>14.840000</td>\n",
              "      <td>89.000000</td>\n",
              "      <td>0.000000</td>\n",
              "      <td>1.000000</td>\n",
              "    </tr>\n",
              "    <tr>\n",
              "      <th>max</th>\n",
              "      <td>8.422212e+13</td>\n",
              "      <td>9.977409e+13</td>\n",
              "      <td>9.999554e+13</td>\n",
              "      <td>6.000000</td>\n",
              "      <td>445.000000</td>\n",
              "      <td>0.000000</td>\n",
              "      <td>0.000000</td>\n",
              "      <td>445.000000</td>\n",
              "      <td>63.340000</td>\n",
              "      <td>445.000000</td>\n",
              "      <td>0.000000</td>\n",
              "      <td>6.000000</td>\n",
              "    </tr>\n",
              "  </tbody>\n",
              "</table>\n",
              "</div>"
            ],
            "text/plain": [
              "         variant_id  ...  ordered_item_quantity\n",
              "count  7.005200e+04  ...           70052.000000\n",
              "mean   2.442320e+11  ...               0.857277\n",
              "std    4.255079e+12  ...               0.380820\n",
              "min    1.001447e+07  ...               0.000000\n",
              "25%    2.692223e+07  ...               1.000000\n",
              "50%    4.494514e+07  ...               1.000000\n",
              "75%    7.743106e+07  ...               1.000000\n",
              "max    8.422212e+13  ...               6.000000\n",
              "\n",
              "[8 rows x 12 columns]"
            ]
          },
          "metadata": {
            "tags": []
          },
          "execution_count": 10
        }
      ]
    },
    {
      "cell_type": "code",
      "metadata": {
        "id": "sGI5mgu8W5F6",
        "colab_type": "code",
        "colab": {
          "base_uri": "https://localhost:8080/",
          "height": 394
        },
        "outputId": "34f4fdb6-d87c-40ad-db3e-13a1687e8cb7"
      },
      "source": [
        "df = df.loc[df[\"ordered_item_quantity\"] > 0]\n",
        "df.head()"
      ],
      "execution_count": 73,
      "outputs": [
        {
          "output_type": "execute_result",
          "data": {
            "text/html": [
              "<div>\n",
              "<style scoped>\n",
              "    .dataframe tbody tr th:only-of-type {\n",
              "        vertical-align: middle;\n",
              "    }\n",
              "\n",
              "    .dataframe tbody tr th {\n",
              "        vertical-align: top;\n",
              "    }\n",
              "\n",
              "    .dataframe thead th {\n",
              "        text-align: right;\n",
              "    }\n",
              "</style>\n",
              "<table border=\"1\" class=\"dataframe\">\n",
              "  <thead>\n",
              "    <tr style=\"text-align: right;\">\n",
              "      <th></th>\n",
              "      <th>product_title</th>\n",
              "      <th>product_type</th>\n",
              "      <th>variant_title</th>\n",
              "      <th>variant_sku</th>\n",
              "      <th>variant_id</th>\n",
              "      <th>customer_id</th>\n",
              "      <th>order_id</th>\n",
              "      <th>day</th>\n",
              "      <th>net_quantity</th>\n",
              "      <th>gross_sales</th>\n",
              "      <th>discounts</th>\n",
              "      <th>returns</th>\n",
              "      <th>net_sales</th>\n",
              "      <th>taxes</th>\n",
              "      <th>total_sales</th>\n",
              "      <th>returned_item_quantity</th>\n",
              "      <th>ordered_item_quantity</th>\n",
              "    </tr>\n",
              "  </thead>\n",
              "  <tbody>\n",
              "    <tr>\n",
              "      <th>0</th>\n",
              "      <td>DPR</td>\n",
              "      <td>DPR</td>\n",
              "      <td>100</td>\n",
              "      <td>AD-982-708-895-F-6C894FB</td>\n",
              "      <td>52039657</td>\n",
              "      <td>1312378</td>\n",
              "      <td>83290718932496</td>\n",
              "      <td>04/12/2018</td>\n",
              "      <td>2</td>\n",
              "      <td>200.0</td>\n",
              "      <td>-200.00</td>\n",
              "      <td>0.00</td>\n",
              "      <td>0.0</td>\n",
              "      <td>0.0</td>\n",
              "      <td>0.0</td>\n",
              "      <td>0</td>\n",
              "      <td>2</td>\n",
              "    </tr>\n",
              "    <tr>\n",
              "      <th>1</th>\n",
              "      <td>RJF</td>\n",
              "      <td>Product P</td>\n",
              "      <td>28 / A / MTM</td>\n",
              "      <td>83-490-E49-8C8-8-3B100BC</td>\n",
              "      <td>56914686</td>\n",
              "      <td>3715657</td>\n",
              "      <td>36253792848113</td>\n",
              "      <td>01/04/2019</td>\n",
              "      <td>2</td>\n",
              "      <td>190.0</td>\n",
              "      <td>-190.00</td>\n",
              "      <td>0.00</td>\n",
              "      <td>0.0</td>\n",
              "      <td>0.0</td>\n",
              "      <td>0.0</td>\n",
              "      <td>0</td>\n",
              "      <td>2</td>\n",
              "    </tr>\n",
              "    <tr>\n",
              "      <th>2</th>\n",
              "      <td>CLH</td>\n",
              "      <td>Product B</td>\n",
              "      <td>32 / B / FtO</td>\n",
              "      <td>68-ECA-BC7-3B2-A-E73DE1B</td>\n",
              "      <td>24064862</td>\n",
              "      <td>9533448</td>\n",
              "      <td>73094559597229</td>\n",
              "      <td>05/11/2018</td>\n",
              "      <td>0</td>\n",
              "      <td>164.8</td>\n",
              "      <td>-156.56</td>\n",
              "      <td>-8.24</td>\n",
              "      <td>0.0</td>\n",
              "      <td>0.0</td>\n",
              "      <td>0.0</td>\n",
              "      <td>-2</td>\n",
              "      <td>2</td>\n",
              "    </tr>\n",
              "    <tr>\n",
              "      <th>3</th>\n",
              "      <td>NMA</td>\n",
              "      <td>Product F</td>\n",
              "      <td>40 / B / FtO</td>\n",
              "      <td>6C-1F1-226-1B3-2-3542B41</td>\n",
              "      <td>43823868</td>\n",
              "      <td>4121004</td>\n",
              "      <td>53616575668264</td>\n",
              "      <td>19/02/2019</td>\n",
              "      <td>1</td>\n",
              "      <td>119.0</td>\n",
              "      <td>-119.00</td>\n",
              "      <td>0.00</td>\n",
              "      <td>0.0</td>\n",
              "      <td>0.0</td>\n",
              "      <td>0.0</td>\n",
              "      <td>0</td>\n",
              "      <td>1</td>\n",
              "    </tr>\n",
              "    <tr>\n",
              "      <th>4</th>\n",
              "      <td>NMA</td>\n",
              "      <td>Product F</td>\n",
              "      <td>40 / B / FtO</td>\n",
              "      <td>6C-1F1-226-1B3-2-3542B41</td>\n",
              "      <td>43823868</td>\n",
              "      <td>4121004</td>\n",
              "      <td>29263220319421</td>\n",
              "      <td>19/02/2019</td>\n",
              "      <td>1</td>\n",
              "      <td>119.0</td>\n",
              "      <td>-119.00</td>\n",
              "      <td>0.00</td>\n",
              "      <td>0.0</td>\n",
              "      <td>0.0</td>\n",
              "      <td>0.0</td>\n",
              "      <td>0</td>\n",
              "      <td>1</td>\n",
              "    </tr>\n",
              "  </tbody>\n",
              "</table>\n",
              "</div>"
            ],
            "text/plain": [
              "  product_title product_type  ... returned_item_quantity ordered_item_quantity\n",
              "0           DPR          DPR  ...                      0                     2\n",
              "1           RJF    Product P  ...                      0                     2\n",
              "2           CLH    Product B  ...                     -2                     2\n",
              "3           NMA    Product F  ...                      0                     1\n",
              "4           NMA    Product F  ...                      0                     1\n",
              "\n",
              "[5 rows x 17 columns]"
            ]
          },
          "metadata": {
            "tags": []
          },
          "execution_count": 73
        }
      ]
    },
    {
      "cell_type": "code",
      "metadata": {
        "id": "OoKGoPI8dK0o",
        "colab_type": "code",
        "colab": {
          "base_uri": "https://localhost:8080/",
          "height": 204
        },
        "outputId": "3b199b06-0fc5-4ca9-b334-00a9c57ae114"
      },
      "source": [
        "def encode_column(column):\n",
        "    if column > 0:\n",
        "        return 1\n",
        "    if column <= 0:\n",
        "        return 0\n",
        "\n",
        "\n",
        "def aggregate_by_ordered_quantity(dataframe, column_list):\n",
        "    '''this function:\n",
        "    1. aggregates a given dataframe by column list, \n",
        "    as a result creates a aggregated dataframe by counting the ordered item quantities\n",
        "\n",
        "    2. adds number_of_X ordered where X is the second element in the column_list \n",
        "    to the aggregated dataframe by encoding ordered items into 1\n",
        "\n",
        "    3. creates final dataframe containing information about \n",
        "    how many of X are ordered, based on the first element passed in the column list'''\n",
        "\n",
        "    aggregated_dataframe = (dataframe\n",
        "                            .groupby(column_list)\n",
        "                            .ordered_item_quantity.count()\n",
        "                            .reset_index())\n",
        "\n",
        "    aggregated_dataframe[\"products_ordered\"] = (aggregated_dataframe\n",
        "                                                 .ordered_item_quantity\n",
        "                                                 .apply(encode_column))\n",
        "\n",
        "    final_dataframe = (aggregated_dataframe\n",
        "                       .groupby(column_list[0])\n",
        "                       .products_ordered.sum() # aligned with the added column name\n",
        "                       .reset_index())\n",
        "\n",
        "    return final_dataframe\n",
        "\n",
        "\n",
        "customers = aggregate_by_ordered_quantity(df, [\"customer_id\", \"product_type\"])\n",
        "customers.head()"
      ],
      "execution_count": 67,
      "outputs": [
        {
          "output_type": "execute_result",
          "data": {
            "text/html": [
              "<div>\n",
              "<style scoped>\n",
              "    .dataframe tbody tr th:only-of-type {\n",
              "        vertical-align: middle;\n",
              "    }\n",
              "\n",
              "    .dataframe tbody tr th {\n",
              "        vertical-align: top;\n",
              "    }\n",
              "\n",
              "    .dataframe thead th {\n",
              "        text-align: right;\n",
              "    }\n",
              "</style>\n",
              "<table border=\"1\" class=\"dataframe\">\n",
              "  <thead>\n",
              "    <tr style=\"text-align: right;\">\n",
              "      <th></th>\n",
              "      <th>customer_id</th>\n",
              "      <th>products_ordered</th>\n",
              "    </tr>\n",
              "  </thead>\n",
              "  <tbody>\n",
              "    <tr>\n",
              "      <th>0</th>\n",
              "      <td>1000661</td>\n",
              "      <td>1</td>\n",
              "    </tr>\n",
              "    <tr>\n",
              "      <th>1</th>\n",
              "      <td>1001914</td>\n",
              "      <td>1</td>\n",
              "    </tr>\n",
              "    <tr>\n",
              "      <th>2</th>\n",
              "      <td>1002167</td>\n",
              "      <td>3</td>\n",
              "    </tr>\n",
              "    <tr>\n",
              "      <th>3</th>\n",
              "      <td>1002387</td>\n",
              "      <td>1</td>\n",
              "    </tr>\n",
              "    <tr>\n",
              "      <th>4</th>\n",
              "      <td>1002419</td>\n",
              "      <td>2</td>\n",
              "    </tr>\n",
              "  </tbody>\n",
              "</table>\n",
              "</div>"
            ],
            "text/plain": [
              "   customer_id  products_ordered\n",
              "0      1000661                 1\n",
              "1      1001914                 1\n",
              "2      1002167                 3\n",
              "3      1002387                 1\n",
              "4      1002419                 2"
            ]
          },
          "metadata": {
            "tags": []
          },
          "execution_count": 67
        }
      ]
    },
    {
      "cell_type": "code",
      "metadata": {
        "id": "xH-4DRdteBco",
        "colab_type": "code",
        "colab": {
          "base_uri": "https://localhost:8080/",
          "height": 204
        },
        "outputId": "896c39b7-31d6-4818-fe13-b41d270a987e"
      },
      "source": [
        "order_sum_by_clients = df.groupby(['customer_id','order_id']).sum()['ordered_item_quantity'].reset_index()\n",
        "order_sum_by_clients\n",
        "\n",
        "return_sum_by_clients = df.groupby(['customer_id','order_id']).sum()['returned_item_quantity'].reset_index()\n",
        "return_sum_by_clients\n",
        "\n",
        "ordered_returned_sums = pd.merge(order_sum_by_clients, return_sum_by_clients)\n",
        "ordered_returned_sums['average_item_return'] = (-1*ordered_returned_sums['returned_item_quantity']/\n",
        "                                                ordered_returned_sums['ordered_item_quantity'])\n",
        "\n",
        "\n",
        "ordered_returned_sums.head()"
      ],
      "execution_count": 102,
      "outputs": [
        {
          "output_type": "execute_result",
          "data": {
            "text/html": [
              "<div>\n",
              "<style scoped>\n",
              "    .dataframe tbody tr th:only-of-type {\n",
              "        vertical-align: middle;\n",
              "    }\n",
              "\n",
              "    .dataframe tbody tr th {\n",
              "        vertical-align: top;\n",
              "    }\n",
              "\n",
              "    .dataframe thead th {\n",
              "        text-align: right;\n",
              "    }\n",
              "</style>\n",
              "<table border=\"1\" class=\"dataframe\">\n",
              "  <thead>\n",
              "    <tr style=\"text-align: right;\">\n",
              "      <th></th>\n",
              "      <th>customer_id</th>\n",
              "      <th>order_id</th>\n",
              "      <th>ordered_item_quantity</th>\n",
              "      <th>returned_item_quantity</th>\n",
              "      <th>average_item_return</th>\n",
              "    </tr>\n",
              "  </thead>\n",
              "  <tbody>\n",
              "    <tr>\n",
              "      <th>0</th>\n",
              "      <td>1000661</td>\n",
              "      <td>99119989117212</td>\n",
              "      <td>3</td>\n",
              "      <td>0</td>\n",
              "      <td>0.0</td>\n",
              "    </tr>\n",
              "    <tr>\n",
              "      <th>1</th>\n",
              "      <td>1001914</td>\n",
              "      <td>79758569034715</td>\n",
              "      <td>1</td>\n",
              "      <td>0</td>\n",
              "      <td>0.0</td>\n",
              "    </tr>\n",
              "    <tr>\n",
              "      <th>2</th>\n",
              "      <td>1002167</td>\n",
              "      <td>38156088848638</td>\n",
              "      <td>1</td>\n",
              "      <td>0</td>\n",
              "      <td>0.0</td>\n",
              "    </tr>\n",
              "    <tr>\n",
              "      <th>3</th>\n",
              "      <td>1002167</td>\n",
              "      <td>57440147820257</td>\n",
              "      <td>1</td>\n",
              "      <td>0</td>\n",
              "      <td>0.0</td>\n",
              "    </tr>\n",
              "    <tr>\n",
              "      <th>4</th>\n",
              "      <td>1002167</td>\n",
              "      <td>58825523953710</td>\n",
              "      <td>1</td>\n",
              "      <td>0</td>\n",
              "      <td>0.0</td>\n",
              "    </tr>\n",
              "  </tbody>\n",
              "</table>\n",
              "</div>"
            ],
            "text/plain": [
              "   customer_id        order_id  ...  returned_item_quantity  average_item_return\n",
              "0      1000661  99119989117212  ...                       0                  0.0\n",
              "1      1001914  79758569034715  ...                       0                  0.0\n",
              "2      1002167  38156088848638  ...                       0                  0.0\n",
              "3      1002167  57440147820257  ...                       0                  0.0\n",
              "4      1002167  58825523953710  ...                       0                  0.0\n",
              "\n",
              "[5 rows x 5 columns]"
            ]
          },
          "metadata": {
            "tags": []
          },
          "execution_count": 102
        }
      ]
    },
    {
      "cell_type": "code",
      "metadata": {
        "id": "-6o2F08Qo92A",
        "colab_type": "code",
        "colab": {
          "base_uri": "https://localhost:8080/",
          "height": 204
        },
        "outputId": "166e78b7-3739-4e6d-daaa-64781ac00ec9"
      },
      "source": [
        "customer_return_rate = ordered_returned_sums.groupby('customer_id').mean()['average_item_return'].reset_index()\n",
        "\n",
        "customer_return_rate.head()"
      ],
      "execution_count": 106,
      "outputs": [
        {
          "output_type": "execute_result",
          "data": {
            "text/html": [
              "<div>\n",
              "<style scoped>\n",
              "    .dataframe tbody tr th:only-of-type {\n",
              "        vertical-align: middle;\n",
              "    }\n",
              "\n",
              "    .dataframe tbody tr th {\n",
              "        vertical-align: top;\n",
              "    }\n",
              "\n",
              "    .dataframe thead th {\n",
              "        text-align: right;\n",
              "    }\n",
              "</style>\n",
              "<table border=\"1\" class=\"dataframe\">\n",
              "  <thead>\n",
              "    <tr style=\"text-align: right;\">\n",
              "      <th></th>\n",
              "      <th>customer_id</th>\n",
              "      <th>average_item_return</th>\n",
              "    </tr>\n",
              "  </thead>\n",
              "  <tbody>\n",
              "    <tr>\n",
              "      <th>0</th>\n",
              "      <td>1000661</td>\n",
              "      <td>0.0</td>\n",
              "    </tr>\n",
              "    <tr>\n",
              "      <th>1</th>\n",
              "      <td>1001914</td>\n",
              "      <td>0.0</td>\n",
              "    </tr>\n",
              "    <tr>\n",
              "      <th>2</th>\n",
              "      <td>1002167</td>\n",
              "      <td>0.0</td>\n",
              "    </tr>\n",
              "    <tr>\n",
              "      <th>3</th>\n",
              "      <td>1002387</td>\n",
              "      <td>0.0</td>\n",
              "    </tr>\n",
              "    <tr>\n",
              "      <th>4</th>\n",
              "      <td>1002419</td>\n",
              "      <td>0.0</td>\n",
              "    </tr>\n",
              "  </tbody>\n",
              "</table>\n",
              "</div>"
            ],
            "text/plain": [
              "   customer_id  average_item_return\n",
              "0      1000661                  0.0\n",
              "1      1001914                  0.0\n",
              "2      1002167                  0.0\n",
              "3      1002387                  0.0\n",
              "4      1002419                  0.0"
            ]
          },
          "metadata": {
            "tags": []
          },
          "execution_count": 106
        }
      ]
    },
    {
      "cell_type": "code",
      "metadata": {
        "id": "SOfHtHe8mjSv",
        "colab_type": "code",
        "colab": {
          "base_uri": "https://localhost:8080/",
          "height": 452
        },
        "outputId": "dee5c664-7c99-460c-a86c-fdfda417eb72"
      },
      "source": [
        "return_rate = pd.DataFrame(customer_return_rate['average_item_return'].value_counts().reset_index())\n",
        "return_rate"
      ],
      "execution_count": 107,
      "outputs": [
        {
          "output_type": "execute_result",
          "data": {
            "text/html": [
              "<div>\n",
              "<style scoped>\n",
              "    .dataframe tbody tr th:only-of-type {\n",
              "        vertical-align: middle;\n",
              "    }\n",
              "\n",
              "    .dataframe tbody tr th {\n",
              "        vertical-align: top;\n",
              "    }\n",
              "\n",
              "    .dataframe thead th {\n",
              "        text-align: right;\n",
              "    }\n",
              "</style>\n",
              "<table border=\"1\" class=\"dataframe\">\n",
              "  <thead>\n",
              "    <tr style=\"text-align: right;\">\n",
              "      <th></th>\n",
              "      <th>index</th>\n",
              "      <th>average_item_return</th>\n",
              "    </tr>\n",
              "  </thead>\n",
              "  <tbody>\n",
              "    <tr>\n",
              "      <th>0</th>\n",
              "      <td>0.000000</td>\n",
              "      <td>24823</td>\n",
              "    </tr>\n",
              "    <tr>\n",
              "      <th>1</th>\n",
              "      <td>0.333333</td>\n",
              "      <td>13</td>\n",
              "    </tr>\n",
              "    <tr>\n",
              "      <th>2</th>\n",
              "      <td>1.000000</td>\n",
              "      <td>13</td>\n",
              "    </tr>\n",
              "    <tr>\n",
              "      <th>3</th>\n",
              "      <td>0.500000</td>\n",
              "      <td>9</td>\n",
              "    </tr>\n",
              "    <tr>\n",
              "      <th>4</th>\n",
              "      <td>0.250000</td>\n",
              "      <td>5</td>\n",
              "    </tr>\n",
              "    <tr>\n",
              "      <th>5</th>\n",
              "      <td>0.166667</td>\n",
              "      <td>2</td>\n",
              "    </tr>\n",
              "    <tr>\n",
              "      <th>6</th>\n",
              "      <td>0.200000</td>\n",
              "      <td>2</td>\n",
              "    </tr>\n",
              "    <tr>\n",
              "      <th>7</th>\n",
              "      <td>0.666667</td>\n",
              "      <td>2</td>\n",
              "    </tr>\n",
              "    <tr>\n",
              "      <th>8</th>\n",
              "      <td>0.083333</td>\n",
              "      <td>1</td>\n",
              "    </tr>\n",
              "    <tr>\n",
              "      <th>9</th>\n",
              "      <td>0.013889</td>\n",
              "      <td>1</td>\n",
              "    </tr>\n",
              "    <tr>\n",
              "      <th>10</th>\n",
              "      <td>0.066667</td>\n",
              "      <td>1</td>\n",
              "    </tr>\n",
              "    <tr>\n",
              "      <th>11</th>\n",
              "      <td>0.400000</td>\n",
              "      <td>1</td>\n",
              "    </tr>\n",
              "    <tr>\n",
              "      <th>12</th>\n",
              "      <td>0.125000</td>\n",
              "      <td>1</td>\n",
              "    </tr>\n",
              "  </tbody>\n",
              "</table>\n",
              "</div>"
            ],
            "text/plain": [
              "       index  average_item_return\n",
              "0   0.000000                24823\n",
              "1   0.333333                   13\n",
              "2   1.000000                   13\n",
              "3   0.500000                    9\n",
              "4   0.250000                    5\n",
              "5   0.166667                    2\n",
              "6   0.200000                    2\n",
              "7   0.666667                    2\n",
              "8   0.083333                    1\n",
              "9   0.013889                    1\n",
              "10  0.066667                    1\n",
              "11  0.400000                    1\n",
              "12  0.125000                    1"
            ]
          },
          "metadata": {
            "tags": []
          },
          "execution_count": 107
        }
      ]
    },
    {
      "cell_type": "code",
      "metadata": {
        "id": "h7BI1xBYprko",
        "colab_type": "code",
        "colab": {}
      },
      "source": [
        "return_rate.rename(columns=\n",
        "                    {\"index\": \"average return rate\",\n",
        "                     \"average_item_return\": \"count of unit return rate\"},\n",
        "                    inplace=True)"
      ],
      "execution_count": 110,
      "outputs": []
    },
    {
      "cell_type": "code",
      "metadata": {
        "id": "4pIiNgIPqPWx",
        "colab_type": "code",
        "colab": {
          "base_uri": "https://localhost:8080/",
          "height": 452
        },
        "outputId": "616dce2c-a450-4f8e-b5c3-8eda50f52e6b"
      },
      "source": [
        "return_rate.sort_values(by=\"average return rate\")"
      ],
      "execution_count": 112,
      "outputs": [
        {
          "output_type": "execute_result",
          "data": {
            "text/html": [
              "<div>\n",
              "<style scoped>\n",
              "    .dataframe tbody tr th:only-of-type {\n",
              "        vertical-align: middle;\n",
              "    }\n",
              "\n",
              "    .dataframe tbody tr th {\n",
              "        vertical-align: top;\n",
              "    }\n",
              "\n",
              "    .dataframe thead th {\n",
              "        text-align: right;\n",
              "    }\n",
              "</style>\n",
              "<table border=\"1\" class=\"dataframe\">\n",
              "  <thead>\n",
              "    <tr style=\"text-align: right;\">\n",
              "      <th></th>\n",
              "      <th>average return rate</th>\n",
              "      <th>count of unit return rate</th>\n",
              "    </tr>\n",
              "  </thead>\n",
              "  <tbody>\n",
              "    <tr>\n",
              "      <th>0</th>\n",
              "      <td>0.000000</td>\n",
              "      <td>24823</td>\n",
              "    </tr>\n",
              "    <tr>\n",
              "      <th>9</th>\n",
              "      <td>0.013889</td>\n",
              "      <td>1</td>\n",
              "    </tr>\n",
              "    <tr>\n",
              "      <th>10</th>\n",
              "      <td>0.066667</td>\n",
              "      <td>1</td>\n",
              "    </tr>\n",
              "    <tr>\n",
              "      <th>8</th>\n",
              "      <td>0.083333</td>\n",
              "      <td>1</td>\n",
              "    </tr>\n",
              "    <tr>\n",
              "      <th>12</th>\n",
              "      <td>0.125000</td>\n",
              "      <td>1</td>\n",
              "    </tr>\n",
              "    <tr>\n",
              "      <th>5</th>\n",
              "      <td>0.166667</td>\n",
              "      <td>2</td>\n",
              "    </tr>\n",
              "    <tr>\n",
              "      <th>6</th>\n",
              "      <td>0.200000</td>\n",
              "      <td>2</td>\n",
              "    </tr>\n",
              "    <tr>\n",
              "      <th>4</th>\n",
              "      <td>0.250000</td>\n",
              "      <td>5</td>\n",
              "    </tr>\n",
              "    <tr>\n",
              "      <th>1</th>\n",
              "      <td>0.333333</td>\n",
              "      <td>13</td>\n",
              "    </tr>\n",
              "    <tr>\n",
              "      <th>11</th>\n",
              "      <td>0.400000</td>\n",
              "      <td>1</td>\n",
              "    </tr>\n",
              "    <tr>\n",
              "      <th>3</th>\n",
              "      <td>0.500000</td>\n",
              "      <td>9</td>\n",
              "    </tr>\n",
              "    <tr>\n",
              "      <th>7</th>\n",
              "      <td>0.666667</td>\n",
              "      <td>2</td>\n",
              "    </tr>\n",
              "    <tr>\n",
              "      <th>2</th>\n",
              "      <td>1.000000</td>\n",
              "      <td>13</td>\n",
              "    </tr>\n",
              "  </tbody>\n",
              "</table>\n",
              "</div>"
            ],
            "text/plain": [
              "    average return rate  count of unit return rate\n",
              "0              0.000000                      24823\n",
              "9              0.013889                          1\n",
              "10             0.066667                          1\n",
              "8              0.083333                          1\n",
              "12             0.125000                          1\n",
              "5              0.166667                          2\n",
              "6              0.200000                          2\n",
              "4              0.250000                          5\n",
              "1              0.333333                         13\n",
              "11             0.400000                          1\n",
              "3              0.500000                          9\n",
              "7              0.666667                          2\n",
              "2              1.000000                         13"
            ]
          },
          "metadata": {
            "tags": []
          },
          "execution_count": 112
        }
      ]
    },
    {
      "cell_type": "code",
      "metadata": {
        "id": "ewBbcZj4qeA5",
        "colab_type": "code",
        "colab": {
          "base_uri": "https://localhost:8080/",
          "height": 419
        },
        "outputId": "1278ff73-f899-4e52-85a4-af342b70e8a1"
      },
      "source": [
        "customers = pd.merge(customers,\n",
        "                     customer_return_rate,\n",
        "                     on=\"customer_id\")"
      ],
      "execution_count": 114,
      "outputs": [
        {
          "output_type": "execute_result",
          "data": {
            "text/html": [
              "<div>\n",
              "<style scoped>\n",
              "    .dataframe tbody tr th:only-of-type {\n",
              "        vertical-align: middle;\n",
              "    }\n",
              "\n",
              "    .dataframe tbody tr th {\n",
              "        vertical-align: top;\n",
              "    }\n",
              "\n",
              "    .dataframe thead th {\n",
              "        text-align: right;\n",
              "    }\n",
              "</style>\n",
              "<table border=\"1\" class=\"dataframe\">\n",
              "  <thead>\n",
              "    <tr style=\"text-align: right;\">\n",
              "      <th></th>\n",
              "      <th>customer_id</th>\n",
              "      <th>products_ordered</th>\n",
              "      <th>average_item_return_x</th>\n",
              "      <th>average_item_return_y</th>\n",
              "    </tr>\n",
              "  </thead>\n",
              "  <tbody>\n",
              "    <tr>\n",
              "      <th>0</th>\n",
              "      <td>1000661</td>\n",
              "      <td>1</td>\n",
              "      <td>0.0</td>\n",
              "      <td>0.0</td>\n",
              "    </tr>\n",
              "    <tr>\n",
              "      <th>1</th>\n",
              "      <td>1001914</td>\n",
              "      <td>1</td>\n",
              "      <td>0.0</td>\n",
              "      <td>0.0</td>\n",
              "    </tr>\n",
              "    <tr>\n",
              "      <th>2</th>\n",
              "      <td>1002167</td>\n",
              "      <td>3</td>\n",
              "      <td>0.0</td>\n",
              "      <td>0.0</td>\n",
              "    </tr>\n",
              "    <tr>\n",
              "      <th>3</th>\n",
              "      <td>1002387</td>\n",
              "      <td>1</td>\n",
              "      <td>0.0</td>\n",
              "      <td>0.0</td>\n",
              "    </tr>\n",
              "    <tr>\n",
              "      <th>4</th>\n",
              "      <td>1002419</td>\n",
              "      <td>2</td>\n",
              "      <td>0.0</td>\n",
              "      <td>0.0</td>\n",
              "    </tr>\n",
              "    <tr>\n",
              "      <th>...</th>\n",
              "      <td>...</td>\n",
              "      <td>...</td>\n",
              "      <td>...</td>\n",
              "      <td>...</td>\n",
              "    </tr>\n",
              "    <tr>\n",
              "      <th>24869</th>\n",
              "      <td>97805007741979</td>\n",
              "      <td>2</td>\n",
              "      <td>0.0</td>\n",
              "      <td>0.0</td>\n",
              "    </tr>\n",
              "    <tr>\n",
              "      <th>24870</th>\n",
              "      <td>98854671633650</td>\n",
              "      <td>2</td>\n",
              "      <td>0.0</td>\n",
              "      <td>0.0</td>\n",
              "    </tr>\n",
              "    <tr>\n",
              "      <th>24871</th>\n",
              "      <td>98974226154136</td>\n",
              "      <td>1</td>\n",
              "      <td>0.0</td>\n",
              "      <td>0.0</td>\n",
              "    </tr>\n",
              "    <tr>\n",
              "      <th>24872</th>\n",
              "      <td>99262726332691</td>\n",
              "      <td>2</td>\n",
              "      <td>0.0</td>\n",
              "      <td>0.0</td>\n",
              "    </tr>\n",
              "    <tr>\n",
              "      <th>24873</th>\n",
              "      <td>99549917598660</td>\n",
              "      <td>1</td>\n",
              "      <td>0.0</td>\n",
              "      <td>0.0</td>\n",
              "    </tr>\n",
              "  </tbody>\n",
              "</table>\n",
              "<p>24874 rows × 4 columns</p>\n",
              "</div>"
            ],
            "text/plain": [
              "          customer_id  ...  average_item_return_y\n",
              "0             1000661  ...                    0.0\n",
              "1             1001914  ...                    0.0\n",
              "2             1002167  ...                    0.0\n",
              "3             1002387  ...                    0.0\n",
              "4             1002419  ...                    0.0\n",
              "...               ...  ...                    ...\n",
              "24869  97805007741979  ...                    0.0\n",
              "24870  98854671633650  ...                    0.0\n",
              "24871  98974226154136  ...                    0.0\n",
              "24872  99262726332691  ...                    0.0\n",
              "24873  99549917598660  ...                    0.0\n",
              "\n",
              "[24874 rows x 4 columns]"
            ]
          },
          "metadata": {
            "tags": []
          },
          "execution_count": 114
        }
      ]
    },
    {
      "cell_type": "code",
      "metadata": {
        "id": "mEb-OF4XqmU1",
        "colab_type": "code",
        "colab": {}
      },
      "source": [
        "customers.drop(['average_item_return_y','average_item_return'],inplace =True, axis =1)"
      ],
      "execution_count": 118,
      "outputs": []
    },
    {
      "cell_type": "code",
      "metadata": {
        "id": "QHWce1QAqz3O",
        "colab_type": "code",
        "colab": {}
      },
      "source": [
        "return_rate.rename(columns=\n",
        "                    {\"average_item_return_x\": \"average_item_return\"},\n",
        "                    inplace=True)"
      ],
      "execution_count": 120,
      "outputs": []
    },
    {
      "cell_type": "code",
      "metadata": {
        "id": "238Q4gJ1q9WT",
        "colab_type": "code",
        "colab": {}
      },
      "source": [
        "customers = pd.merge(customers,\n",
        "                     customer_return_rate,\n",
        "                     on=\"customer_id\")"
      ],
      "execution_count": 122,
      "outputs": []
    },
    {
      "cell_type": "code",
      "metadata": {
        "id": "6KVNd5QvtUN4",
        "colab_type": "code",
        "colab": {
          "base_uri": "https://localhost:8080/",
          "height": 204
        },
        "outputId": "6f98dca2-147d-4c5a-e430-978cd3266cf5"
      },
      "source": [
        "customers.head()"
      ],
      "execution_count": 127,
      "outputs": [
        {
          "output_type": "execute_result",
          "data": {
            "text/html": [
              "<div>\n",
              "<style scoped>\n",
              "    .dataframe tbody tr th:only-of-type {\n",
              "        vertical-align: middle;\n",
              "    }\n",
              "\n",
              "    .dataframe tbody tr th {\n",
              "        vertical-align: top;\n",
              "    }\n",
              "\n",
              "    .dataframe thead th {\n",
              "        text-align: right;\n",
              "    }\n",
              "</style>\n",
              "<table border=\"1\" class=\"dataframe\">\n",
              "  <thead>\n",
              "    <tr style=\"text-align: right;\">\n",
              "      <th></th>\n",
              "      <th>customer_id</th>\n",
              "      <th>products_ordered</th>\n",
              "      <th>average_item_return_x</th>\n",
              "      <th>average_item_return</th>\n",
              "    </tr>\n",
              "  </thead>\n",
              "  <tbody>\n",
              "    <tr>\n",
              "      <th>0</th>\n",
              "      <td>1000661</td>\n",
              "      <td>1</td>\n",
              "      <td>0.0</td>\n",
              "      <td>0.0</td>\n",
              "    </tr>\n",
              "    <tr>\n",
              "      <th>1</th>\n",
              "      <td>1001914</td>\n",
              "      <td>1</td>\n",
              "      <td>0.0</td>\n",
              "      <td>0.0</td>\n",
              "    </tr>\n",
              "    <tr>\n",
              "      <th>2</th>\n",
              "      <td>1002167</td>\n",
              "      <td>3</td>\n",
              "      <td>0.0</td>\n",
              "      <td>0.0</td>\n",
              "    </tr>\n",
              "    <tr>\n",
              "      <th>3</th>\n",
              "      <td>1002387</td>\n",
              "      <td>1</td>\n",
              "      <td>0.0</td>\n",
              "      <td>0.0</td>\n",
              "    </tr>\n",
              "    <tr>\n",
              "      <th>4</th>\n",
              "      <td>1002419</td>\n",
              "      <td>2</td>\n",
              "      <td>0.0</td>\n",
              "      <td>0.0</td>\n",
              "    </tr>\n",
              "  </tbody>\n",
              "</table>\n",
              "</div>"
            ],
            "text/plain": [
              "   customer_id  products_ordered  average_item_return_x  average_item_return\n",
              "0      1000661                 1                    0.0                  0.0\n",
              "1      1001914                 1                    0.0                  0.0\n",
              "2      1002167                 3                    0.0                  0.0\n",
              "3      1002387                 1                    0.0                  0.0\n",
              "4      1002419                 2                    0.0                  0.0"
            ]
          },
          "metadata": {
            "tags": []
          },
          "execution_count": 127
        }
      ]
    },
    {
      "cell_type": "code",
      "metadata": {
        "id": "puUjHB9ntjNG",
        "colab_type": "code",
        "colab": {}
      },
      "source": [
        "customer_total_spending = (df.groupby('customer_id').sum()['total_sales']).reset_index()\n",
        "\n",
        "customer_total_spending.rename(columns = {\"total_sales\" : \"total_spending\"},\n",
        "                               inplace = True)"
      ],
      "execution_count": 128,
      "outputs": []
    },
    {
      "cell_type": "code",
      "metadata": {
        "id": "dhuyk6_cuVxB",
        "colab_type": "code",
        "colab": {}
      },
      "source": [
        "customers = customers.merge(customer_total_spending, \n",
        "                            on=\"customer_id\")"
      ],
      "execution_count": 130,
      "outputs": []
    },
    {
      "cell_type": "code",
      "metadata": {
        "id": "ZJq__6shucLB",
        "colab_type": "code",
        "colab": {}
      },
      "source": [
        "customers.drop(['average_item_return_x'],inplace =True, axis =1)"
      ],
      "execution_count": 132,
      "outputs": []
    },
    {
      "cell_type": "code",
      "metadata": {
        "id": "e9FuMwFruj7U",
        "colab_type": "code",
        "colab": {
          "base_uri": "https://localhost:8080/",
          "height": 204
        },
        "outputId": "176d22c8-c135-4b2d-de1c-0b8ce56cef02"
      },
      "source": [
        "customers.head()"
      ],
      "execution_count": 134,
      "outputs": [
        {
          "output_type": "execute_result",
          "data": {
            "text/html": [
              "<div>\n",
              "<style scoped>\n",
              "    .dataframe tbody tr th:only-of-type {\n",
              "        vertical-align: middle;\n",
              "    }\n",
              "\n",
              "    .dataframe tbody tr th {\n",
              "        vertical-align: top;\n",
              "    }\n",
              "\n",
              "    .dataframe thead th {\n",
              "        text-align: right;\n",
              "    }\n",
              "</style>\n",
              "<table border=\"1\" class=\"dataframe\">\n",
              "  <thead>\n",
              "    <tr style=\"text-align: right;\">\n",
              "      <th></th>\n",
              "      <th>customer_id</th>\n",
              "      <th>products_ordered</th>\n",
              "      <th>average_item_return</th>\n",
              "      <th>total_spending</th>\n",
              "    </tr>\n",
              "  </thead>\n",
              "  <tbody>\n",
              "    <tr>\n",
              "      <th>0</th>\n",
              "      <td>1000661</td>\n",
              "      <td>1</td>\n",
              "      <td>0.0</td>\n",
              "      <td>260.0</td>\n",
              "    </tr>\n",
              "    <tr>\n",
              "      <th>1</th>\n",
              "      <td>1001914</td>\n",
              "      <td>1</td>\n",
              "      <td>0.0</td>\n",
              "      <td>79.2</td>\n",
              "    </tr>\n",
              "    <tr>\n",
              "      <th>2</th>\n",
              "      <td>1002167</td>\n",
              "      <td>3</td>\n",
              "      <td>0.0</td>\n",
              "      <td>234.2</td>\n",
              "    </tr>\n",
              "    <tr>\n",
              "      <th>3</th>\n",
              "      <td>1002387</td>\n",
              "      <td>1</td>\n",
              "      <td>0.0</td>\n",
              "      <td>89.0</td>\n",
              "    </tr>\n",
              "    <tr>\n",
              "      <th>4</th>\n",
              "      <td>1002419</td>\n",
              "      <td>2</td>\n",
              "      <td>0.0</td>\n",
              "      <td>103.0</td>\n",
              "    </tr>\n",
              "  </tbody>\n",
              "</table>\n",
              "</div>"
            ],
            "text/plain": [
              "   customer_id  products_ordered  average_item_return  total_spending\n",
              "0      1000661                 1                  0.0           260.0\n",
              "1      1001914                 1                  0.0            79.2\n",
              "2      1002167                 3                  0.0           234.2\n",
              "3      1002387                 1                  0.0            89.0\n",
              "4      1002419                 2                  0.0           103.0"
            ]
          },
          "metadata": {
            "tags": []
          },
          "execution_count": 134
        }
      ]
    },
    {
      "cell_type": "code",
      "metadata": {
        "id": "a4Ao-RVpumon",
        "colab_type": "code",
        "colab": {}
      },
      "source": [
        "customers.drop(columns=\"customer_id\",\n",
        "               inplace=True)"
      ],
      "execution_count": 135,
      "outputs": []
    },
    {
      "cell_type": "code",
      "metadata": {
        "id": "5Zykj3NFvYB8",
        "colab_type": "code",
        "colab": {}
      },
      "source": [
        "\n",
        "def apply_log1p_transformation(dataframe, column):\n",
        "    '''This function takes a dataframe and a column in the string format\n",
        "    then applies numpy log1p transformation to the column\n",
        "    as a result returns log1p applied pandas series'''\n",
        "    \n",
        "    dataframe[\"log_\" + column] = np.log1p(dataframe[column])\n",
        "    return dataframe[\"log_\" + column]"
      ],
      "execution_count": 137,
      "outputs": []
    },
    {
      "cell_type": "code",
      "metadata": {
        "id": "VYEsb449zn1R",
        "colab_type": "code",
        "colab": {
          "base_uri": "https://localhost:8080/",
          "height": 221
        },
        "outputId": "5d9d8b0c-1ac0-4543-c967-af77517ec300"
      },
      "source": [
        "\n",
        "apply_log1p_transformation(customers, \"products_ordered\")\n",
        "apply_log1p_transformation(customers, \"average_item_return\")\n",
        "apply_log1p_transformation(customers, \"total_spending\")"
      ],
      "execution_count": 139,
      "outputs": [
        {
          "output_type": "execute_result",
          "data": {
            "text/plain": [
              "0        5.564520\n",
              "1        4.384524\n",
              "2        5.460436\n",
              "3        4.499810\n",
              "4        4.644391\n",
              "           ...   \n",
              "24869    5.560682\n",
              "24870    5.495117\n",
              "24871    4.499810\n",
              "24872    5.590987\n",
              "24873    4.174387\n",
              "Name: log_total_spending, Length: 24874, dtype: float64"
            ]
          },
          "metadata": {
            "tags": []
          },
          "execution_count": 139
        }
      ]
    },
    {
      "cell_type": "code",
      "metadata": {
        "id": "yTflV-acz4Ta",
        "colab_type": "code",
        "colab": {
          "base_uri": "https://localhost:8080/",
          "height": 224
        },
        "outputId": "751ca2da-156f-4467-d7af-73719dc60f40"
      },
      "source": [
        "customers.head()"
      ],
      "execution_count": 141,
      "outputs": [
        {
          "output_type": "execute_result",
          "data": {
            "text/html": [
              "<div>\n",
              "<style scoped>\n",
              "    .dataframe tbody tr th:only-of-type {\n",
              "        vertical-align: middle;\n",
              "    }\n",
              "\n",
              "    .dataframe tbody tr th {\n",
              "        vertical-align: top;\n",
              "    }\n",
              "\n",
              "    .dataframe thead th {\n",
              "        text-align: right;\n",
              "    }\n",
              "</style>\n",
              "<table border=\"1\" class=\"dataframe\">\n",
              "  <thead>\n",
              "    <tr style=\"text-align: right;\">\n",
              "      <th></th>\n",
              "      <th>products_ordered</th>\n",
              "      <th>average_item_return</th>\n",
              "      <th>total_spending</th>\n",
              "      <th>log_products_ordered</th>\n",
              "      <th>log_average_item_return</th>\n",
              "      <th>log_total_spending</th>\n",
              "    </tr>\n",
              "  </thead>\n",
              "  <tbody>\n",
              "    <tr>\n",
              "      <th>0</th>\n",
              "      <td>1</td>\n",
              "      <td>0.0</td>\n",
              "      <td>260.0</td>\n",
              "      <td>0.693147</td>\n",
              "      <td>0.0</td>\n",
              "      <td>5.564520</td>\n",
              "    </tr>\n",
              "    <tr>\n",
              "      <th>1</th>\n",
              "      <td>1</td>\n",
              "      <td>0.0</td>\n",
              "      <td>79.2</td>\n",
              "      <td>0.693147</td>\n",
              "      <td>0.0</td>\n",
              "      <td>4.384524</td>\n",
              "    </tr>\n",
              "    <tr>\n",
              "      <th>2</th>\n",
              "      <td>3</td>\n",
              "      <td>0.0</td>\n",
              "      <td>234.2</td>\n",
              "      <td>1.386294</td>\n",
              "      <td>0.0</td>\n",
              "      <td>5.460436</td>\n",
              "    </tr>\n",
              "    <tr>\n",
              "      <th>3</th>\n",
              "      <td>1</td>\n",
              "      <td>0.0</td>\n",
              "      <td>89.0</td>\n",
              "      <td>0.693147</td>\n",
              "      <td>0.0</td>\n",
              "      <td>4.499810</td>\n",
              "    </tr>\n",
              "    <tr>\n",
              "      <th>4</th>\n",
              "      <td>2</td>\n",
              "      <td>0.0</td>\n",
              "      <td>103.0</td>\n",
              "      <td>1.098612</td>\n",
              "      <td>0.0</td>\n",
              "      <td>4.644391</td>\n",
              "    </tr>\n",
              "  </tbody>\n",
              "</table>\n",
              "</div>"
            ],
            "text/plain": [
              "   products_ordered  ...  log_total_spending\n",
              "0                 1  ...            5.564520\n",
              "1                 1  ...            4.384524\n",
              "2                 3  ...            5.460436\n",
              "3                 1  ...            4.499810\n",
              "4                 2  ...            4.644391\n",
              "\n",
              "[5 rows x 6 columns]"
            ]
          },
          "metadata": {
            "tags": []
          },
          "execution_count": 141
        }
      ]
    },
    {
      "cell_type": "code",
      "metadata": {
        "id": "n59ib-TJz822",
        "colab_type": "code",
        "colab": {}
      },
      "source": [
        "kmeans_model = KMeans(init='k-means++', \n",
        "                      max_iter=500, \n",
        "                      random_state=42)"
      ],
      "execution_count": 142,
      "outputs": []
    },
    {
      "cell_type": "code",
      "metadata": {
        "id": "0VgriU7f0XJ0",
        "colab_type": "code",
        "colab": {
          "base_uri": "https://localhost:8080/",
          "height": 68
        },
        "outputId": "cc9009db-5053-4579-ec93-4cb4ad3de0ef"
      },
      "source": [
        "kmeans_model.fit(customers.iloc[:,3:])"
      ],
      "execution_count": 143,
      "outputs": [
        {
          "output_type": "execute_result",
          "data": {
            "text/plain": [
              "KMeans(algorithm='auto', copy_x=True, init='k-means++', max_iter=500,\n",
              "       n_clusters=8, n_init=10, n_jobs=None, precompute_distances='auto',\n",
              "       random_state=42, tol=0.0001, verbose=0)"
            ]
          },
          "metadata": {
            "tags": []
          },
          "execution_count": 143
        }
      ]
    },
    {
      "cell_type": "code",
      "metadata": {
        "id": "JJ6OS9zp0h6W",
        "colab_type": "code",
        "colab": {}
      },
      "source": [
        "def make_list_of_K(K, dataframe):\n",
        "    '''inputs: K as integer and dataframe\n",
        "    apply k-means clustering to dataframe\n",
        "    and make a list of inertia values against 1 to K (inclusive)\n",
        "    return the inertia values list\n",
        "    '''\n",
        "    \n",
        "    cluster_values = list(range(1, K+1))\n",
        "    inertia_values=[]\n",
        "    \n",
        "    for c in cluster_values:\n",
        "        model = KMeans(\n",
        "            n_clusters = c, \n",
        "            init='k-means++', \n",
        "            max_iter=500, \n",
        "            random_state=42)\n",
        "        model.fit(dataframe)\n",
        "        inertia_values.append(model.inertia_)\n",
        "    \n",
        "    return inertia_values"
      ],
      "execution_count": 144,
      "outputs": []
    },
    {
      "cell_type": "code",
      "metadata": {
        "id": "o1cL4Fpy0lM_",
        "colab_type": "code",
        "colab": {}
      },
      "source": [
        "\n",
        "# save inertia values in a dataframe for k values between 1 to 15 \n",
        "results = make_list_of_K(30, customers.iloc[:, 3:])\n",
        "\n",
        "k_values_distances = pd.DataFrame({\"clusters\": list(range(1, 31)),\n",
        "                                   \"within cluster sum of squared distances\": results})\n",
        "\n"
      ],
      "execution_count": 149,
      "outputs": []
    },
    {
      "cell_type": "code",
      "metadata": {
        "id": "cSajvfzF0wzR",
        "colab_type": "code",
        "colab": {
          "base_uri": "https://localhost:8080/",
          "height": 542
        },
        "outputId": "8f9c3f84-2a98-4ac6-bacc-598ed304f59a"
      },
      "source": [
        "\n",
        "# visualization for the selection of number of segments\n",
        "fig = go.Figure()\n",
        "\n",
        "fig.add_trace(go.Scatter(x=k_values_distances[\"clusters\"], \n",
        "                         y=k_values_distances[\"within cluster sum of squared distances\"],\n",
        "                         mode='lines+markers'))\n",
        "\n",
        "fig.update_layout(xaxis = dict(\n",
        "        tickmode = 'linear',\n",
        "        tick0 = 1,\n",
        "        dtick = 1),\n",
        "                  title_text=\"Within Cluster Sum of Squared Distances VS K Values\",\n",
        "                  xaxis_title=\"K values\",\n",
        "                  yaxis_title=\"Cluster sum of squared distances\")\n",
        "\n",
        "fig.show()"
      ],
      "execution_count": 150,
      "outputs": [
        {
          "output_type": "display_data",
          "data": {
            "text/html": [
              "<html>\n",
              "<head><meta charset=\"utf-8\" /></head>\n",
              "<body>\n",
              "    <div>\n",
              "            <script src=\"https://cdnjs.cloudflare.com/ajax/libs/mathjax/2.7.5/MathJax.js?config=TeX-AMS-MML_SVG\"></script><script type=\"text/javascript\">if (window.MathJax) {MathJax.Hub.Config({SVG: {font: \"STIX-Web\"}});}</script>\n",
              "                <script type=\"text/javascript\">window.PlotlyConfig = {MathJaxConfig: 'local'};</script>\n",
              "        <script src=\"https://cdn.plot.ly/plotly-latest.min.js\"></script>    \n",
              "            <div id=\"ac663ac3-ee16-43c5-a2e9-850e8fcdb4e8\" class=\"plotly-graph-div\" style=\"height:525px; width:100%;\"></div>\n",
              "            <script type=\"text/javascript\">\n",
              "                \n",
              "                    window.PLOTLYENV=window.PLOTLYENV || {};\n",
              "                    \n",
              "                if (document.getElementById(\"ac663ac3-ee16-43c5-a2e9-850e8fcdb4e8\")) {\n",
              "                    Plotly.newPlot(\n",
              "                        'ac663ac3-ee16-43c5-a2e9-850e8fcdb4e8',\n",
              "                        [{\"mode\": \"lines+markers\", \"type\": \"scatter\", \"x\": [1, 2, 3, 4, 5, 6, 7, 8, 9, 10, 11, 12, 13, 14, 15, 16, 17, 18, 19, 20, 21, 22, 23, 24, 25, 26, 27, 28, 29, 30], \"y\": [14721.827136751679, 5378.435726264916, 3008.2196475044075, 2325.778362623402, 1917.621075546444, 1561.8484501107478, 1258.9330972915595, 1066.6086426894994, 932.3471258599307, 797.7523352940292, 689.7946598811026, 622.2892787639178, 553.8594072461254, 489.06100803557337, 445.47018453705834, 396.9572129205488, 370.67132453748815, 347.1611598255225, 322.823460894204, 298.8527836596329, 287.33718907250903, 265.89391663859584, 250.67437428967662, 235.82885565390347, 219.55220618578045, 207.27582693161963, 195.9036644464736, 183.58242104986968, 176.23538307900762, 163.67544396662012]}],\n",
              "                        {\"template\": {\"data\": {\"bar\": [{\"error_x\": {\"color\": \"#2a3f5f\"}, \"error_y\": {\"color\": \"#2a3f5f\"}, \"marker\": {\"line\": {\"color\": \"#E5ECF6\", \"width\": 0.5}}, \"type\": \"bar\"}], \"barpolar\": [{\"marker\": {\"line\": {\"color\": \"#E5ECF6\", \"width\": 0.5}}, \"type\": \"barpolar\"}], \"carpet\": [{\"aaxis\": {\"endlinecolor\": \"#2a3f5f\", \"gridcolor\": \"white\", \"linecolor\": \"white\", \"minorgridcolor\": \"white\", \"startlinecolor\": \"#2a3f5f\"}, \"baxis\": {\"endlinecolor\": \"#2a3f5f\", \"gridcolor\": \"white\", \"linecolor\": \"white\", \"minorgridcolor\": \"white\", \"startlinecolor\": \"#2a3f5f\"}, \"type\": \"carpet\"}], \"choropleth\": [{\"colorbar\": {\"outlinewidth\": 0, \"ticks\": \"\"}, \"type\": \"choropleth\"}], \"contour\": [{\"colorbar\": {\"outlinewidth\": 0, \"ticks\": \"\"}, \"colorscale\": [[0.0, \"#0d0887\"], [0.1111111111111111, \"#46039f\"], [0.2222222222222222, \"#7201a8\"], [0.3333333333333333, \"#9c179e\"], [0.4444444444444444, \"#bd3786\"], [0.5555555555555556, \"#d8576b\"], [0.6666666666666666, \"#ed7953\"], [0.7777777777777778, \"#fb9f3a\"], [0.8888888888888888, \"#fdca26\"], [1.0, \"#f0f921\"]], \"type\": \"contour\"}], \"contourcarpet\": [{\"colorbar\": {\"outlinewidth\": 0, \"ticks\": \"\"}, \"type\": \"contourcarpet\"}], \"heatmap\": [{\"colorbar\": {\"outlinewidth\": 0, \"ticks\": \"\"}, \"colorscale\": [[0.0, \"#0d0887\"], [0.1111111111111111, \"#46039f\"], [0.2222222222222222, \"#7201a8\"], [0.3333333333333333, \"#9c179e\"], [0.4444444444444444, \"#bd3786\"], [0.5555555555555556, \"#d8576b\"], [0.6666666666666666, \"#ed7953\"], [0.7777777777777778, \"#fb9f3a\"], [0.8888888888888888, \"#fdca26\"], [1.0, \"#f0f921\"]], \"type\": \"heatmap\"}], \"heatmapgl\": [{\"colorbar\": {\"outlinewidth\": 0, \"ticks\": \"\"}, \"colorscale\": [[0.0, \"#0d0887\"], [0.1111111111111111, \"#46039f\"], [0.2222222222222222, \"#7201a8\"], [0.3333333333333333, \"#9c179e\"], [0.4444444444444444, \"#bd3786\"], [0.5555555555555556, \"#d8576b\"], [0.6666666666666666, \"#ed7953\"], [0.7777777777777778, \"#fb9f3a\"], [0.8888888888888888, \"#fdca26\"], [1.0, \"#f0f921\"]], \"type\": \"heatmapgl\"}], \"histogram\": [{\"marker\": {\"colorbar\": {\"outlinewidth\": 0, \"ticks\": \"\"}}, \"type\": \"histogram\"}], \"histogram2d\": [{\"colorbar\": {\"outlinewidth\": 0, \"ticks\": \"\"}, \"colorscale\": [[0.0, \"#0d0887\"], [0.1111111111111111, \"#46039f\"], [0.2222222222222222, \"#7201a8\"], [0.3333333333333333, \"#9c179e\"], [0.4444444444444444, \"#bd3786\"], [0.5555555555555556, \"#d8576b\"], [0.6666666666666666, \"#ed7953\"], [0.7777777777777778, \"#fb9f3a\"], [0.8888888888888888, \"#fdca26\"], [1.0, \"#f0f921\"]], \"type\": \"histogram2d\"}], \"histogram2dcontour\": [{\"colorbar\": {\"outlinewidth\": 0, \"ticks\": \"\"}, \"colorscale\": [[0.0, \"#0d0887\"], [0.1111111111111111, \"#46039f\"], [0.2222222222222222, \"#7201a8\"], [0.3333333333333333, \"#9c179e\"], [0.4444444444444444, \"#bd3786\"], [0.5555555555555556, \"#d8576b\"], [0.6666666666666666, \"#ed7953\"], [0.7777777777777778, \"#fb9f3a\"], [0.8888888888888888, \"#fdca26\"], [1.0, \"#f0f921\"]], \"type\": \"histogram2dcontour\"}], \"mesh3d\": [{\"colorbar\": {\"outlinewidth\": 0, \"ticks\": \"\"}, \"type\": \"mesh3d\"}], \"parcoords\": [{\"line\": {\"colorbar\": {\"outlinewidth\": 0, \"ticks\": \"\"}}, \"type\": \"parcoords\"}], \"pie\": [{\"automargin\": true, \"type\": \"pie\"}], \"scatter\": [{\"marker\": {\"colorbar\": {\"outlinewidth\": 0, \"ticks\": \"\"}}, \"type\": \"scatter\"}], \"scatter3d\": [{\"line\": {\"colorbar\": {\"outlinewidth\": 0, \"ticks\": \"\"}}, \"marker\": {\"colorbar\": {\"outlinewidth\": 0, \"ticks\": \"\"}}, \"type\": \"scatter3d\"}], \"scattercarpet\": [{\"marker\": {\"colorbar\": {\"outlinewidth\": 0, \"ticks\": \"\"}}, \"type\": \"scattercarpet\"}], \"scattergeo\": [{\"marker\": {\"colorbar\": {\"outlinewidth\": 0, \"ticks\": \"\"}}, \"type\": \"scattergeo\"}], \"scattergl\": [{\"marker\": {\"colorbar\": {\"outlinewidth\": 0, \"ticks\": \"\"}}, \"type\": \"scattergl\"}], \"scattermapbox\": [{\"marker\": {\"colorbar\": {\"outlinewidth\": 0, \"ticks\": \"\"}}, \"type\": \"scattermapbox\"}], \"scatterpolar\": [{\"marker\": {\"colorbar\": {\"outlinewidth\": 0, \"ticks\": \"\"}}, \"type\": \"scatterpolar\"}], \"scatterpolargl\": [{\"marker\": {\"colorbar\": {\"outlinewidth\": 0, \"ticks\": \"\"}}, \"type\": \"scatterpolargl\"}], \"scatterternary\": [{\"marker\": {\"colorbar\": {\"outlinewidth\": 0, \"ticks\": \"\"}}, \"type\": \"scatterternary\"}], \"surface\": [{\"colorbar\": {\"outlinewidth\": 0, \"ticks\": \"\"}, \"colorscale\": [[0.0, \"#0d0887\"], [0.1111111111111111, \"#46039f\"], [0.2222222222222222, \"#7201a8\"], [0.3333333333333333, \"#9c179e\"], [0.4444444444444444, \"#bd3786\"], [0.5555555555555556, \"#d8576b\"], [0.6666666666666666, \"#ed7953\"], [0.7777777777777778, \"#fb9f3a\"], [0.8888888888888888, \"#fdca26\"], [1.0, \"#f0f921\"]], \"type\": \"surface\"}], \"table\": [{\"cells\": {\"fill\": {\"color\": \"#EBF0F8\"}, \"line\": {\"color\": \"white\"}}, \"header\": {\"fill\": {\"color\": \"#C8D4E3\"}, \"line\": {\"color\": \"white\"}}, \"type\": \"table\"}]}, \"layout\": {\"annotationdefaults\": {\"arrowcolor\": \"#2a3f5f\", \"arrowhead\": 0, \"arrowwidth\": 1}, \"coloraxis\": {\"colorbar\": {\"outlinewidth\": 0, \"ticks\": \"\"}}, \"colorscale\": {\"diverging\": [[0, \"#8e0152\"], [0.1, \"#c51b7d\"], [0.2, \"#de77ae\"], [0.3, \"#f1b6da\"], [0.4, \"#fde0ef\"], [0.5, \"#f7f7f7\"], [0.6, \"#e6f5d0\"], [0.7, \"#b8e186\"], [0.8, \"#7fbc41\"], [0.9, \"#4d9221\"], [1, \"#276419\"]], \"sequential\": [[0.0, \"#0d0887\"], [0.1111111111111111, \"#46039f\"], [0.2222222222222222, \"#7201a8\"], [0.3333333333333333, \"#9c179e\"], [0.4444444444444444, \"#bd3786\"], [0.5555555555555556, \"#d8576b\"], [0.6666666666666666, \"#ed7953\"], [0.7777777777777778, \"#fb9f3a\"], [0.8888888888888888, \"#fdca26\"], [1.0, \"#f0f921\"]], \"sequentialminus\": [[0.0, \"#0d0887\"], [0.1111111111111111, \"#46039f\"], [0.2222222222222222, \"#7201a8\"], [0.3333333333333333, \"#9c179e\"], [0.4444444444444444, \"#bd3786\"], [0.5555555555555556, \"#d8576b\"], [0.6666666666666666, \"#ed7953\"], [0.7777777777777778, \"#fb9f3a\"], [0.8888888888888888, \"#fdca26\"], [1.0, \"#f0f921\"]]}, \"colorway\": [\"#636efa\", \"#EF553B\", \"#00cc96\", \"#ab63fa\", \"#FFA15A\", \"#19d3f3\", \"#FF6692\", \"#B6E880\", \"#FF97FF\", \"#FECB52\"], \"font\": {\"color\": \"#2a3f5f\"}, \"geo\": {\"bgcolor\": \"white\", \"lakecolor\": \"white\", \"landcolor\": \"#E5ECF6\", \"showlakes\": true, \"showland\": true, \"subunitcolor\": \"white\"}, \"hoverlabel\": {\"align\": \"left\"}, \"hovermode\": \"closest\", \"mapbox\": {\"style\": \"light\"}, \"paper_bgcolor\": \"white\", \"plot_bgcolor\": \"#E5ECF6\", \"polar\": {\"angularaxis\": {\"gridcolor\": \"white\", \"linecolor\": \"white\", \"ticks\": \"\"}, \"bgcolor\": \"#E5ECF6\", \"radialaxis\": {\"gridcolor\": \"white\", \"linecolor\": \"white\", \"ticks\": \"\"}}, \"scene\": {\"xaxis\": {\"backgroundcolor\": \"#E5ECF6\", \"gridcolor\": \"white\", \"gridwidth\": 2, \"linecolor\": \"white\", \"showbackground\": true, \"ticks\": \"\", \"zerolinecolor\": \"white\"}, \"yaxis\": {\"backgroundcolor\": \"#E5ECF6\", \"gridcolor\": \"white\", \"gridwidth\": 2, \"linecolor\": \"white\", \"showbackground\": true, \"ticks\": \"\", \"zerolinecolor\": \"white\"}, \"zaxis\": {\"backgroundcolor\": \"#E5ECF6\", \"gridcolor\": \"white\", \"gridwidth\": 2, \"linecolor\": \"white\", \"showbackground\": true, \"ticks\": \"\", \"zerolinecolor\": \"white\"}}, \"shapedefaults\": {\"line\": {\"color\": \"#2a3f5f\"}}, \"ternary\": {\"aaxis\": {\"gridcolor\": \"white\", \"linecolor\": \"white\", \"ticks\": \"\"}, \"baxis\": {\"gridcolor\": \"white\", \"linecolor\": \"white\", \"ticks\": \"\"}, \"bgcolor\": \"#E5ECF6\", \"caxis\": {\"gridcolor\": \"white\", \"linecolor\": \"white\", \"ticks\": \"\"}}, \"title\": {\"x\": 0.05}, \"xaxis\": {\"automargin\": true, \"gridcolor\": \"white\", \"linecolor\": \"white\", \"ticks\": \"\", \"title\": {\"standoff\": 15}, \"zerolinecolor\": \"white\", \"zerolinewidth\": 2}, \"yaxis\": {\"automargin\": true, \"gridcolor\": \"white\", \"linecolor\": \"white\", \"ticks\": \"\", \"title\": {\"standoff\": 15}, \"zerolinecolor\": \"white\", \"zerolinewidth\": 2}}}, \"title\": {\"text\": \"Within Cluster Sum of Squared Distances VS K Values\"}, \"xaxis\": {\"dtick\": 1, \"tick0\": 1, \"tickmode\": \"linear\", \"title\": {\"text\": \"K values\"}}, \"yaxis\": {\"title\": {\"text\": \"Cluster sum of squared distances\"}}},\n",
              "                        {\"responsive\": true}\n",
              "                    ).then(function(){\n",
              "                            \n",
              "var gd = document.getElementById('ac663ac3-ee16-43c5-a2e9-850e8fcdb4e8');\n",
              "var x = new MutationObserver(function (mutations, observer) {{\n",
              "        var display = window.getComputedStyle(gd).display;\n",
              "        if (!display || display === 'none') {{\n",
              "            console.log([gd, 'removed!']);\n",
              "            Plotly.purge(gd);\n",
              "            observer.disconnect();\n",
              "        }}\n",
              "}});\n",
              "\n",
              "// Listen for the removal of the full notebook cells\n",
              "var notebookContainer = gd.closest('#notebook-container');\n",
              "if (notebookContainer) {{\n",
              "    x.observe(notebookContainer, {childList: true});\n",
              "}}\n",
              "\n",
              "// Listen for the clearing of the current output cell\n",
              "var outputEl = gd.closest('.output');\n",
              "if (outputEl) {{\n",
              "    x.observe(outputEl, {childList: true});\n",
              "}}\n",
              "\n",
              "                        })\n",
              "                };\n",
              "                \n",
              "            </script>\n",
              "        </div>\n",
              "</body>\n",
              "</html>"
            ]
          },
          "metadata": {
            "tags": []
          }
        }
      ]
    },
    {
      "cell_type": "code",
      "metadata": {
        "id": "b_y4yfm03HQ3",
        "colab_type": "code",
        "colab": {}
      },
      "source": [
        "updated_kmeans_model = KMeans(n_clusters = 4, \n",
        "                              init='k-means++', \n",
        "                              max_iter=500, \n",
        "                              random_state=42)\n"
      ],
      "execution_count": 151,
      "outputs": []
    },
    {
      "cell_type": "code",
      "metadata": {
        "id": "-88wBFdw3J_0",
        "colab_type": "code",
        "colab": {}
      },
      "source": [
        "prediction = updated_kmeans_model.fit_predict(customers.iloc[:,3:])"
      ],
      "execution_count": 154,
      "outputs": []
    },
    {
      "cell_type": "code",
      "metadata": {
        "id": "36hdw6gA3MxK",
        "colab_type": "code",
        "colab": {}
      },
      "source": [
        "customers[\"clusters\"] = updated_kmeans_model.labels_"
      ],
      "execution_count": 163,
      "outputs": []
    },
    {
      "cell_type": "code",
      "metadata": {
        "id": "SpdwL1Sy5pas",
        "colab_type": "code",
        "colab": {
          "base_uri": "https://localhost:8080/",
          "height": 235
        },
        "outputId": "d3212bf2-fea2-4a3b-b215-c774fc8dd468"
      },
      "source": [
        "result = customers[['products_ordered','average_item_return','total_spending','clusters']]\n",
        "result.groupby('clusters').agg({'sum','mean','count','max'})"
      ],
      "execution_count": 178,
      "outputs": [
        {
          "output_type": "execute_result",
          "data": {
            "text/html": [
              "<div>\n",
              "<style scoped>\n",
              "    .dataframe tbody tr th:only-of-type {\n",
              "        vertical-align: middle;\n",
              "    }\n",
              "\n",
              "    .dataframe tbody tr th {\n",
              "        vertical-align: top;\n",
              "    }\n",
              "\n",
              "    .dataframe thead tr th {\n",
              "        text-align: left;\n",
              "    }\n",
              "\n",
              "    .dataframe thead tr:last-of-type th {\n",
              "        text-align: right;\n",
              "    }\n",
              "</style>\n",
              "<table border=\"1\" class=\"dataframe\">\n",
              "  <thead>\n",
              "    <tr>\n",
              "      <th></th>\n",
              "      <th colspan=\"4\" halign=\"left\">products_ordered</th>\n",
              "      <th colspan=\"4\" halign=\"left\">average_item_return</th>\n",
              "      <th colspan=\"4\" halign=\"left\">total_spending</th>\n",
              "    </tr>\n",
              "    <tr>\n",
              "      <th></th>\n",
              "      <th>mean</th>\n",
              "      <th>count</th>\n",
              "      <th>sum</th>\n",
              "      <th>max</th>\n",
              "      <th>mean</th>\n",
              "      <th>count</th>\n",
              "      <th>sum</th>\n",
              "      <th>max</th>\n",
              "      <th>mean</th>\n",
              "      <th>count</th>\n",
              "      <th>sum</th>\n",
              "      <th>max</th>\n",
              "    </tr>\n",
              "    <tr>\n",
              "      <th>clusters</th>\n",
              "      <th></th>\n",
              "      <th></th>\n",
              "      <th></th>\n",
              "      <th></th>\n",
              "      <th></th>\n",
              "      <th></th>\n",
              "      <th></th>\n",
              "      <th></th>\n",
              "      <th></th>\n",
              "      <th></th>\n",
              "      <th></th>\n",
              "      <th></th>\n",
              "    </tr>\n",
              "  </thead>\n",
              "  <tbody>\n",
              "    <tr>\n",
              "      <th>0</th>\n",
              "      <td>1.018439</td>\n",
              "      <td>10467</td>\n",
              "      <td>10660</td>\n",
              "      <td>3</td>\n",
              "      <td>0.001608</td>\n",
              "      <td>10467</td>\n",
              "      <td>16.833333</td>\n",
              "      <td>1.000000</td>\n",
              "      <td>78.812253</td>\n",
              "      <td>10467</td>\n",
              "      <td>824927.85</td>\n",
              "      <td>114.0</td>\n",
              "    </tr>\n",
              "    <tr>\n",
              "      <th>1</th>\n",
              "      <td>1.583819</td>\n",
              "      <td>7206</td>\n",
              "      <td>11413</td>\n",
              "      <td>4</td>\n",
              "      <td>0.000648</td>\n",
              "      <td>7206</td>\n",
              "      <td>4.666667</td>\n",
              "      <td>0.500000</td>\n",
              "      <td>162.202900</td>\n",
              "      <td>7206</td>\n",
              "      <td>1168834.10</td>\n",
              "      <td>258.1</td>\n",
              "    </tr>\n",
              "    <tr>\n",
              "      <th>2</th>\n",
              "      <td>4.122478</td>\n",
              "      <td>2082</td>\n",
              "      <td>8583</td>\n",
              "      <td>13</td>\n",
              "      <td>0.000611</td>\n",
              "      <td>2082</td>\n",
              "      <td>1.272222</td>\n",
              "      <td>0.333333</td>\n",
              "      <td>615.262464</td>\n",
              "      <td>2082</td>\n",
              "      <td>1280976.45</td>\n",
              "      <td>3131.7</td>\n",
              "    </tr>\n",
              "    <tr>\n",
              "      <th>3</th>\n",
              "      <td>2.471967</td>\n",
              "      <td>5119</td>\n",
              "      <td>12654</td>\n",
              "      <td>5</td>\n",
              "      <td>0.000599</td>\n",
              "      <td>5119</td>\n",
              "      <td>3.066667</td>\n",
              "      <td>0.500000</td>\n",
              "      <td>289.567669</td>\n",
              "      <td>5119</td>\n",
              "      <td>1482296.90</td>\n",
              "      <td>570.0</td>\n",
              "    </tr>\n",
              "  </tbody>\n",
              "</table>\n",
              "</div>"
            ],
            "text/plain": [
              "         products_ordered                ... total_spending                    \n",
              "                     mean  count    sum  ...          count         sum     max\n",
              "clusters                                 ...                                   \n",
              "0                1.018439  10467  10660  ...          10467   824927.85   114.0\n",
              "1                1.583819   7206  11413  ...           7206  1168834.10   258.1\n",
              "2                4.122478   2082   8583  ...           2082  1280976.45  3131.7\n",
              "3                2.471967   5119  12654  ...           5119  1482296.90   570.0\n",
              "\n",
              "[4 rows x 12 columns]"
            ]
          },
          "metadata": {
            "tags": []
          },
          "execution_count": 178
        }
      ]
    },
    {
      "cell_type": "code",
      "metadata": {
        "id": "2tgAsXzZ6YUf",
        "colab_type": "code",
        "colab": {
          "base_uri": "https://localhost:8080/",
          "height": 364
        },
        "outputId": "3d5e882a-6d5f-4d20-eb68-e738a7ae4924"
      },
      "source": [
        "import seaborn as sns\n",
        "\n",
        "sns.countplot(x='clusters', data=result)"
      ],
      "execution_count": 172,
      "outputs": [
        {
          "output_type": "stream",
          "text": [
            "/usr/local/lib/python3.6/dist-packages/statsmodels/tools/_testing.py:19: FutureWarning:\n",
            "\n",
            "pandas.util.testing is deprecated. Use the functions in the public API at pandas.testing instead.\n",
            "\n"
          ],
          "name": "stderr"
        },
        {
          "output_type": "execute_result",
          "data": {
            "text/plain": [
              "<matplotlib.axes._subplots.AxesSubplot at 0x7f57f6166278>"
            ]
          },
          "metadata": {
            "tags": []
          },
          "execution_count": 172
        },
        {
          "output_type": "display_data",
          "data": {
            "image/png": "[encoded data removed]",
            "text/plain": [
              "<Figure size 432x288 with 1 Axes>"
            ]
          },
          "metadata": {
            "tags": [],
            "needs_background": "light"
          }
        }
      ]
    },
    {
      "cell_type": "code",
      "metadata": {
        "id": "boIYmcwp8lTu",
        "colab_type": "code",
        "colab": {
          "base_uri": "https://localhost:8080/",
          "height": 419
        },
        "outputId": "99512de8-1a17-4f22-82f5-6b0dd3e7fe92"
      },
      "source": [
        "result\n",
        "grafico = customers[['log_products_ordered','log_average_item_return','log_total_spending']]"
      ],
      "execution_count": 184,
      "outputs": [
        {
          "output_type": "execute_result",
          "data": {
            "text/html": [
              "<div>\n",
              "<style scoped>\n",
              "    .dataframe tbody tr th:only-of-type {\n",
              "        vertical-align: middle;\n",
              "    }\n",
              "\n",
              "    .dataframe tbody tr th {\n",
              "        vertical-align: top;\n",
              "    }\n",
              "\n",
              "    .dataframe thead th {\n",
              "        text-align: right;\n",
              "    }\n",
              "</style>\n",
              "<table border=\"1\" class=\"dataframe\">\n",
              "  <thead>\n",
              "    <tr style=\"text-align: right;\">\n",
              "      <th></th>\n",
              "      <th>log_products_ordered</th>\n",
              "      <th>log_average_item_return</th>\n",
              "      <th>log_total_spending</th>\n",
              "    </tr>\n",
              "  </thead>\n",
              "  <tbody>\n",
              "    <tr>\n",
              "      <th>0</th>\n",
              "      <td>0.693147</td>\n",
              "      <td>0.0</td>\n",
              "      <td>5.564520</td>\n",
              "    </tr>\n",
              "    <tr>\n",
              "      <th>1</th>\n",
              "      <td>0.693147</td>\n",
              "      <td>0.0</td>\n",
              "      <td>4.384524</td>\n",
              "    </tr>\n",
              "    <tr>\n",
              "      <th>2</th>\n",
              "      <td>1.386294</td>\n",
              "      <td>0.0</td>\n",
              "      <td>5.460436</td>\n",
              "    </tr>\n",
              "    <tr>\n",
              "      <th>3</th>\n",
              "      <td>0.693147</td>\n",
              "      <td>0.0</td>\n",
              "      <td>4.499810</td>\n",
              "    </tr>\n",
              "    <tr>\n",
              "      <th>4</th>\n",
              "      <td>1.098612</td>\n",
              "      <td>0.0</td>\n",
              "      <td>4.644391</td>\n",
              "    </tr>\n",
              "    <tr>\n",
              "      <th>...</th>\n",
              "      <td>...</td>\n",
              "      <td>...</td>\n",
              "      <td>...</td>\n",
              "    </tr>\n",
              "    <tr>\n",
              "      <th>24869</th>\n",
              "      <td>1.098612</td>\n",
              "      <td>0.0</td>\n",
              "      <td>5.560682</td>\n",
              "    </tr>\n",
              "    <tr>\n",
              "      <th>24870</th>\n",
              "      <td>1.098612</td>\n",
              "      <td>0.0</td>\n",
              "      <td>5.495117</td>\n",
              "    </tr>\n",
              "    <tr>\n",
              "      <th>24871</th>\n",
              "      <td>0.693147</td>\n",
              "      <td>0.0</td>\n",
              "      <td>4.499810</td>\n",
              "    </tr>\n",
              "    <tr>\n",
              "      <th>24872</th>\n",
              "      <td>1.098612</td>\n",
              "      <td>0.0</td>\n",
              "      <td>5.590987</td>\n",
              "    </tr>\n",
              "    <tr>\n",
              "      <th>24873</th>\n",
              "      <td>0.693147</td>\n",
              "      <td>0.0</td>\n",
              "      <td>4.174387</td>\n",
              "    </tr>\n",
              "  </tbody>\n",
              "</table>\n",
              "<p>24874 rows × 3 columns</p>\n",
              "</div>"
            ],
            "text/plain": [
              "       log_products_ordered  log_average_item_return  log_total_spending\n",
              "0                  0.693147                      0.0            5.564520\n",
              "1                  0.693147                      0.0            4.384524\n",
              "2                  1.386294                      0.0            5.460436\n",
              "3                  0.693147                      0.0            4.499810\n",
              "4                  1.098612                      0.0            4.644391\n",
              "...                     ...                      ...                 ...\n",
              "24869              1.098612                      0.0            5.560682\n",
              "24870              1.098612                      0.0            5.495117\n",
              "24871              0.693147                      0.0            4.499810\n",
              "24872              1.098612                      0.0            5.590987\n",
              "24873              0.693147                      0.0            4.174387\n",
              "\n",
              "[24874 rows x 3 columns]"
            ]
          },
          "metadata": {
            "tags": []
          },
          "execution_count": 184
        }
      ]
    },
    {
      "cell_type": "code",
      "metadata": {
        "id": "SfsklKJZ-e_a",
        "colab_type": "code",
        "colab": {
          "base_uri": "https://localhost:8080/",
          "height": 301
        },
        "outputId": "20382d65-a251-4256-876d-2765aa819a4d"
      },
      "source": [
        "from sklearn import datasets\n",
        "from sklearn.decomposition import PCA\n",
        "\n",
        "pca = PCA(n_components=2)\n",
        "#guardar los datos transformados en un arreglo X_r\n",
        "X_r = pca.fit(grafico).transform(grafico)\n",
        "# crear una figura\n",
        "plt.figure()\n",
        "#definir colores para cada especie de flor iris\n",
        "colors = ['navy', 'turquoise', 'darkorange','red']\n",
        "target_name = ['Grupo 0', 'Grupo 1', 'Grupo 2','Grupo 3']\n",
        "for color, i, target_name in zip(colors, [0, 1, 2, 3], target_name):\n",
        " plt.scatter(X_r[updated_kmeans_model.labels_ == i, 0], X_r[updated_kmeans_model.labels_ == i, 1], color=color, alpha=.8, lw=2,\n",
        " label=target_name)\n",
        "sns.set()\n",
        "# configurar el gráfico\n",
        "plt.legend(loc='best', shadow=False, scatterpoints=1)\n",
        "plt.title('Dos dimensiones PCA de Customers')\n",
        "plt.xlabel('Componente Principal 1')\n",
        "plt.ylabel('Componente Principal 2')\n",
        "plt.show()"
      ],
      "execution_count": 200,
      "outputs": [
        {
          "output_type": "display_data",
          "data": {
            "image/png": "[encoded data removed]",
            "text/plain": [
              "<Figure size 432x288 with 1 Axes>"
            ]
          },
          "metadata": {
            "tags": []
          }
        }
      ]
    },
    {
      "cell_type": "code",
      "metadata": {
        "id": "jOch2QLPBSsQ",
        "colab_type": "code",
        "colab": {
          "base_uri": "https://localhost:8080/",
          "height": 136
        },
        "outputId": "c51437ea-f180-490d-d5d3-ea7abf580123"
      },
      "source": [
        "X_r"
      ],
      "execution_count": 199,
      "outputs": [
        {
          "output_type": "execute_result",
          "data": {
            "text/plain": [
              "array([[-0.4317958 , -0.44704242],\n",
              "       [ 0.66416415, -0.00987379],\n",
              "       [-0.59201421,  0.23518908],\n",
              "       ...,\n",
              "       [ 0.55708844, -0.05258533],\n",
              "       [-0.60664846, -0.08032497],\n",
              "       [ 0.85933493,  0.06797809]])"
            ]
          },
          "metadata": {
            "tags": []
          },
          "execution_count": 199
        }
      ]
    },
    {
      "cell_type": "code",
      "metadata": {
        "id": "kb__Qn9YAQN9",
        "colab_type": "code",
        "colab": {
          "base_uri": "https://localhost:8080/",
          "height": 853
        },
        "outputId": "cf45aa04-2035-45b9-ac0f-f19f11d01c80"
      },
      "source": [
        "from sklearn.datasets import load_digits\n",
        "# Importar las librerías con los métodos de reducción de dimensionalidad\n",
        "from sklearn.decomposition import PCA\n",
        "from sklearn.manifold import TSNE\n",
        "\n",
        "tsne = TSNE(n_components=2, verbose=1, perplexity=30, n_iter=250)\n",
        "\n",
        "X_embedded = tsne.fit_transform(grafico)"
      ],
      "execution_count": 198,
      "outputs": [
        {
          "output_type": "stream",
          "text": [
            "[t-SNE] Computing 91 nearest neighbors...\n",
            "[t-SNE] Indexed 24874 samples in 0.076s...\n",
            "[t-SNE] Computed neighbors for 24874 samples in 0.743s...\n",
            "[t-SNE] Computed conditional probabilities for sample 1000 / 24874\n",
            "[t-SNE] Computed conditional probabilities for sample 2000 / 24874\n",
            "[t-SNE] Computed conditional probabilities for sample 3000 / 24874\n",
            "[t-SNE] Computed conditional probabilities for sample 4000 / 24874\n",
            "[t-SNE] Computed conditional probabilities for sample 5000 / 24874\n",
            "[t-SNE] Computed conditional probabilities for sample 6000 / 24874\n",
            "[t-SNE] Computed conditional probabilities for sample 7000 / 24874\n",
            "[t-SNE] Computed conditional probabilities for sample 8000 / 24874\n",
            "[t-SNE] Computed conditional probabilities for sample 9000 / 24874\n",
            "[t-SNE] Computed conditional probabilities for sample 10000 / 24874\n",
            "[t-SNE] Computed conditional probabilities for sample 11000 / 24874\n",
            "[t-SNE] Computed conditional probabilities for sample 12000 / 24874\n",
            "[t-SNE] Computed conditional probabilities for sample 13000 / 24874\n",
            "[t-SNE] Computed conditional probabilities for sample 14000 / 24874\n",
            "[t-SNE] Computed conditional probabilities for sample 15000 / 24874\n",
            "[t-SNE] Computed conditional probabilities for sample 16000 / 24874\n",
            "[t-SNE] Computed conditional probabilities for sample 17000 / 24874\n",
            "[t-SNE] Computed conditional probabilities for sample 18000 / 24874\n",
            "[t-SNE] Computed conditional probabilities for sample 19000 / 24874\n",
            "[t-SNE] Computed conditional probabilities for sample 20000 / 24874\n",
            "[t-SNE] Computed conditional probabilities for sample 21000 / 24874\n",
            "[t-SNE] Computed conditional probabilities for sample 22000 / 24874\n",
            "[t-SNE] Computed conditional probabilities for sample 23000 / 24874\n",
            "[t-SNE] Computed conditional probabilities for sample 24000 / 24874\n",
            "[t-SNE] Computed conditional probabilities for sample 24874 / 24874\n",
            "[t-SNE] Mean sigma: 0.000000\n"
          ],
          "name": "stdout"
        },
        {
          "output_type": "error",
          "ename": "KeyboardInterrupt",
          "evalue": "ignored",
          "traceback": [
            "\u001b[0;31m---------------------------------------------------------------------------\u001b[0m",
            "\u001b[0;31mKeyboardInterrupt\u001b[0m                         Traceback (most recent call last)",
            "\u001b[0;32m<ipython-input-198-7657d6bd08eb>\u001b[0m in \u001b[0;36m<module>\u001b[0;34m()\u001b[0m\n\u001b[1;32m      6\u001b[0m \u001b[0mtsne\u001b[0m \u001b[0;34m=\u001b[0m \u001b[0mTSNE\u001b[0m\u001b[0;34m(\u001b[0m\u001b[0mn_components\u001b[0m\u001b[0;34m=\u001b[0m\u001b[0;36m2\u001b[0m\u001b[0;34m,\u001b[0m \u001b[0mverbose\u001b[0m\u001b[0;34m=\u001b[0m\u001b[0;36m1\u001b[0m\u001b[0;34m,\u001b[0m \u001b[0mperplexity\u001b[0m\u001b[0;34m=\u001b[0m\u001b[0;36m30\u001b[0m\u001b[0;34m,\u001b[0m \u001b[0mn_iter\u001b[0m\u001b[0;34m=\u001b[0m\u001b[0;36m250\u001b[0m\u001b[0;34m)\u001b[0m\u001b[0;34m\u001b[0m\u001b[0;34m\u001b[0m\u001b[0m\n\u001b[1;32m      7\u001b[0m \u001b[0;34m\u001b[0m\u001b[0m\n\u001b[0;32m----> 8\u001b[0;31m \u001b[0mX_embedded\u001b[0m \u001b[0;34m=\u001b[0m \u001b[0mtsne\u001b[0m\u001b[0;34m.\u001b[0m\u001b[0mfit_transform\u001b[0m\u001b[0;34m(\u001b[0m\u001b[0mgrafico\u001b[0m\u001b[0;34m)\u001b[0m\u001b[0;34m\u001b[0m\u001b[0;34m\u001b[0m\u001b[0m\n\u001b[0m",
            "\u001b[0;32m/usr/local/lib/python3.6/dist-packages/sklearn/manifold/_t_sne.py\u001b[0m in \u001b[0;36mfit_transform\u001b[0;34m(self, X, y)\u001b[0m\n\u001b[1;32m    884\u001b[0m             \u001b[0mEmbedding\u001b[0m \u001b[0mof\u001b[0m \u001b[0mthe\u001b[0m \u001b[0mtraining\u001b[0m \u001b[0mdata\u001b[0m \u001b[0;32min\u001b[0m \u001b[0mlow\u001b[0m\u001b[0;34m-\u001b[0m\u001b[0mdimensional\u001b[0m \u001b[0mspace\u001b[0m\u001b[0;34m.\u001b[0m\u001b[0;34m\u001b[0m\u001b[0;34m\u001b[0m\u001b[0m\n\u001b[1;32m    885\u001b[0m         \"\"\"\n\u001b[0;32m--> 886\u001b[0;31m         \u001b[0membedding\u001b[0m \u001b[0;34m=\u001b[0m \u001b[0mself\u001b[0m\u001b[0;34m.\u001b[0m\u001b[0m_fit\u001b[0m\u001b[0;34m(\u001b[0m\u001b[0mX\u001b[0m\u001b[0;34m)\u001b[0m\u001b[0;34m\u001b[0m\u001b[0;34m\u001b[0m\u001b[0m\n\u001b[0m\u001b[1;32m    887\u001b[0m         \u001b[0mself\u001b[0m\u001b[0;34m.\u001b[0m\u001b[0membedding_\u001b[0m \u001b[0;34m=\u001b[0m \u001b[0membedding\u001b[0m\u001b[0;34m\u001b[0m\u001b[0;34m\u001b[0m\u001b[0m\n\u001b[1;32m    888\u001b[0m         \u001b[0;32mreturn\u001b[0m \u001b[0mself\u001b[0m\u001b[0;34m.\u001b[0m\u001b[0membedding_\u001b[0m\u001b[0;34m\u001b[0m\u001b[0;34m\u001b[0m\u001b[0m\n",
            "\u001b[0;32m/usr/local/lib/python3.6/dist-packages/sklearn/manifold/_t_sne.py\u001b[0m in \u001b[0;36m_fit\u001b[0;34m(self, X, skip_num_points)\u001b[0m\n\u001b[1;32m    796\u001b[0m                           \u001b[0mX_embedded\u001b[0m\u001b[0;34m=\u001b[0m\u001b[0mX_embedded\u001b[0m\u001b[0;34m,\u001b[0m\u001b[0;34m\u001b[0m\u001b[0;34m\u001b[0m\u001b[0m\n\u001b[1;32m    797\u001b[0m                           \u001b[0mneighbors\u001b[0m\u001b[0;34m=\u001b[0m\u001b[0mneighbors_nn\u001b[0m\u001b[0;34m,\u001b[0m\u001b[0;34m\u001b[0m\u001b[0;34m\u001b[0m\u001b[0m\n\u001b[0;32m--> 798\u001b[0;31m                           skip_num_points=skip_num_points)\n\u001b[0m\u001b[1;32m    799\u001b[0m \u001b[0;34m\u001b[0m\u001b[0m\n\u001b[1;32m    800\u001b[0m     def _tsne(self, P, degrees_of_freedom, n_samples, X_embedded,\n",
            "\u001b[0;32m/usr/local/lib/python3.6/dist-packages/sklearn/manifold/_t_sne.py\u001b[0m in \u001b[0;36m_tsne\u001b[0;34m(self, P, degrees_of_freedom, n_samples, X_embedded, neighbors, skip_num_points)\u001b[0m\n\u001b[1;32m    835\u001b[0m         \u001b[0mP\u001b[0m \u001b[0;34m*=\u001b[0m \u001b[0mself\u001b[0m\u001b[0;34m.\u001b[0m\u001b[0mearly_exaggeration\u001b[0m\u001b[0;34m\u001b[0m\u001b[0;34m\u001b[0m\u001b[0m\n\u001b[1;32m    836\u001b[0m         params, kl_divergence, it = _gradient_descent(obj_func, params,\n\u001b[0;32m--> 837\u001b[0;31m                                                       **opt_args)\n\u001b[0m\u001b[1;32m    838\u001b[0m         \u001b[0;32mif\u001b[0m \u001b[0mself\u001b[0m\u001b[0;34m.\u001b[0m\u001b[0mverbose\u001b[0m\u001b[0;34m:\u001b[0m\u001b[0;34m\u001b[0m\u001b[0;34m\u001b[0m\u001b[0m\n\u001b[1;32m    839\u001b[0m             print(\"[t-SNE] KL divergence after %d iterations with early \"\n",
            "\u001b[0;32m/usr/local/lib/python3.6/dist-packages/sklearn/manifold/_t_sne.py\u001b[0m in \u001b[0;36m_gradient_descent\u001b[0;34m(objective, p0, it, n_iter, n_iter_check, n_iter_without_progress, momentum, learning_rate, min_gain, min_grad_norm, verbose, args, kwargs)\u001b[0m\n\u001b[1;32m    356\u001b[0m         \u001b[0mkwargs\u001b[0m\u001b[0;34m[\u001b[0m\u001b[0;34m'compute_error'\u001b[0m\u001b[0;34m]\u001b[0m \u001b[0;34m=\u001b[0m \u001b[0mcheck_convergence\u001b[0m \u001b[0;32mor\u001b[0m \u001b[0mi\u001b[0m \u001b[0;34m==\u001b[0m \u001b[0mn_iter\u001b[0m \u001b[0;34m-\u001b[0m \u001b[0;36m1\u001b[0m\u001b[0;34m\u001b[0m\u001b[0;34m\u001b[0m\u001b[0m\n\u001b[1;32m    357\u001b[0m \u001b[0;34m\u001b[0m\u001b[0m\n\u001b[0;32m--> 358\u001b[0;31m         \u001b[0merror\u001b[0m\u001b[0;34m,\u001b[0m \u001b[0mgrad\u001b[0m \u001b[0;34m=\u001b[0m \u001b[0mobjective\u001b[0m\u001b[0;34m(\u001b[0m\u001b[0mp\u001b[0m\u001b[0;34m,\u001b[0m \u001b[0;34m*\u001b[0m\u001b[0margs\u001b[0m\u001b[0;34m,\u001b[0m \u001b[0;34m**\u001b[0m\u001b[0mkwargs\u001b[0m\u001b[0;34m)\u001b[0m\u001b[0;34m\u001b[0m\u001b[0;34m\u001b[0m\u001b[0m\n\u001b[0m\u001b[1;32m    359\u001b[0m         \u001b[0mgrad_norm\u001b[0m \u001b[0;34m=\u001b[0m \u001b[0mlinalg\u001b[0m\u001b[0;34m.\u001b[0m\u001b[0mnorm\u001b[0m\u001b[0;34m(\u001b[0m\u001b[0mgrad\u001b[0m\u001b[0;34m)\u001b[0m\u001b[0;34m\u001b[0m\u001b[0;34m\u001b[0m\u001b[0m\n\u001b[1;32m    360\u001b[0m \u001b[0;34m\u001b[0m\u001b[0m\n",
            "\u001b[0;32m/usr/local/lib/python3.6/dist-packages/sklearn/manifold/_t_sne.py\u001b[0m in \u001b[0;36m_kl_divergence_bh\u001b[0;34m(params, P, degrees_of_freedom, n_samples, n_components, angle, skip_num_points, verbose, compute_error, num_threads)\u001b[0m\n\u001b[1;32m    260\u001b[0m                                       \u001b[0mdof\u001b[0m\u001b[0;34m=\u001b[0m\u001b[0mdegrees_of_freedom\u001b[0m\u001b[0;34m,\u001b[0m\u001b[0;34m\u001b[0m\u001b[0;34m\u001b[0m\u001b[0m\n\u001b[1;32m    261\u001b[0m                                       \u001b[0mcompute_error\u001b[0m\u001b[0;34m=\u001b[0m\u001b[0mcompute_error\u001b[0m\u001b[0;34m,\u001b[0m\u001b[0;34m\u001b[0m\u001b[0;34m\u001b[0m\u001b[0m\n\u001b[0;32m--> 262\u001b[0;31m                                       num_threads=num_threads)\n\u001b[0m\u001b[1;32m    263\u001b[0m     \u001b[0mc\u001b[0m \u001b[0;34m=\u001b[0m \u001b[0;36m2.0\u001b[0m \u001b[0;34m*\u001b[0m \u001b[0;34m(\u001b[0m\u001b[0mdegrees_of_freedom\u001b[0m \u001b[0;34m+\u001b[0m \u001b[0;36m1.0\u001b[0m\u001b[0;34m)\u001b[0m \u001b[0;34m/\u001b[0m \u001b[0mdegrees_of_freedom\u001b[0m\u001b[0;34m\u001b[0m\u001b[0;34m\u001b[0m\u001b[0m\n\u001b[1;32m    264\u001b[0m     \u001b[0mgrad\u001b[0m \u001b[0;34m=\u001b[0m \u001b[0mgrad\u001b[0m\u001b[0;34m.\u001b[0m\u001b[0mravel\u001b[0m\u001b[0;34m(\u001b[0m\u001b[0;34m)\u001b[0m\u001b[0;34m\u001b[0m\u001b[0;34m\u001b[0m\u001b[0m\n",
            "\u001b[0;31mKeyboardInterrupt\u001b[0m: "
          ]
        }
      ]
    },
    {
      "cell_type": "code",
      "metadata": {
        "id": "ShqSGMSC4wUB",
        "colab_type": "code",
        "colab": {}
      },
      "source": [
        "plt.scatter( X_embedded[:, 0], X_embedded[:, 1],\n",
        " c=updated_kmeans_model.labels_, edgecolor='none', alpha=0.8,\n",
        " cmap=plt.cm.get_cmap('tab10', 10) )\n",
        "plt.title('Reducción de Dimensionalidad t-SNE')\n",
        "plt.xlabel('Dimensión 1')\n",
        "plt.ylabel('Dimensión 2')\n",
        "plt.colorbar()"
      ],
      "execution_count": null,
      "outputs": []
    }
  ]
}